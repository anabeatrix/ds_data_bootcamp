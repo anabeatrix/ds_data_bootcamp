{
 "cells": [
  {
   "cell_type": "markdown",
   "metadata": {},
   "source": [
    "# Estatística Básica\n",
    "![img estatistica](https://databootcamp.nyc3.digitaloceanspaces.com/img/homer_simpson_as_pessoas_inventam_estatisticas_para_pro_l656rme.jpg)\n",
    "\n",
    "### Precisamos conseguir entender nossos dados estatisticamente\n",
    "\n",
    "Analisando os dados do Titanic, você consegue muitas informações estatísticas que ajudam a compreender melhor seu problema e resolver ele da melhor forma possível. Nosso problema pode ser resolvido com algoritmos de Machine Learning, mas também com algumas ferramentas simples de estatística que vamos ver aqui.\n"
   ]
  },
  {
   "cell_type": "markdown",
   "metadata": {},
   "source": [
    "## Vamos precisar usar uma nova biblioteca científica do Python!\n",
    "\n",
    "### SciPy\n",
    "![scipy](https://databootcamp.nyc3.digitaloceanspaces.com/img/scipy.png)\n",
    "\n",
    "### Processamento numérico e de matrizes\n",
    "\n",
    "O Numpy é uma das principais principais bibliotecas do Python para computação científica. NumPy vem de _Numerical Python_ e é o pacote que permite que manipulemos matrizes e vetores de forma simples.\n",
    "\n",
    "![numpy](https://databootcamp.nyc3.digitaloceanspaces.com/img/numpy.jpeg)\n",
    "\n"
   ]
  },
  {
   "cell_type": "code",
   "execution_count": null,
   "metadata": {},
   "outputs": [],
   "source": [
    "import numpy"
   ]
  },
  {
   "cell_type": "markdown",
   "metadata": {},
   "source": [
    "# Métricas \n",
    "Para entendermos como são nossos dados, precisamos entender as métricas deles!"
   ]
  },
  {
   "cell_type": "code",
   "execution_count": null,
   "metadata": {},
   "outputs": [],
   "source": [
    "import pandas\n",
    "titanic = pandas.read_csv(\"https://databootcamp.nyc3.digitaloceanspaces.com/titanic_2.csv\")"
   ]
  },
  {
   "cell_type": "code",
   "execution_count": null,
   "metadata": {
    "scrolled": true
   },
   "outputs": [],
   "source": [
    "titanic.head()"
   ]
  },
  {
   "cell_type": "code",
   "execution_count": null,
   "metadata": {},
   "outputs": [],
   "source": [
    "titanic.describe()"
   ]
  },
  {
   "cell_type": "markdown",
   "metadata": {},
   "source": [
    "Essa visão é legal, mas nem tudo faz sentido...\n",
    "\n",
    "Ids de passageiro, por exemplo. O que a média disso me diz?\n",
    "\n",
    "**Não é porque podemos fazer algo que devemos fazê-lo**\n",
    "![com grandes poderes vem grandes responsabilidades](https://i.pinimg.com/originals/d6/de/4f/d6de4f169843f3a587430e64b9354592.jpg)"
   ]
  },
  {
   "cell_type": "markdown",
   "metadata": {},
   "source": [
    "## Média Artimética"
   ]
  },
  {
   "cell_type": "markdown",
   "metadata": {},
   "source": [
    "É uma medida que tenta encontrar valores centrais de uma distribuição."
   ]
  },
  {
   "cell_type": "code",
   "execution_count": null,
   "metadata": {},
   "outputs": [],
   "source": [
    "titanic.Age.mean()"
   ]
  },
  {
   "cell_type": "markdown",
   "metadata": {},
   "source": [
    "### Vamos dar uma olhada mais a fundo pra gente revisar como as médias funcionam"
   ]
  },
  {
   "cell_type": "markdown",
   "metadata": {},
   "source": [
    "É obtida somando todos os valores e dividindo pelo números de indivíduos da população. "
   ]
  },
  {
   "cell_type": "code",
   "execution_count": null,
   "metadata": {},
   "outputs": [],
   "source": [
    "valores = [1,2,3,4,5]\n",
    "\n",
    "def media(lista):\n",
    "    return sum(lista) / len(lista)\n",
    "\n",
    "media(valores)"
   ]
  },
  {
   "cell_type": "markdown",
   "metadata": {},
   "source": [
    "**Ela é fortemente influenciada por valores extremos**"
   ]
  },
  {
   "cell_type": "code",
   "execution_count": null,
   "metadata": {},
   "outputs": [],
   "source": [
    "valores = [1,1,1,1,10000]\n",
    "\n",
    "def media(lista):\n",
    "    return sum(lista) / len(lista)\n",
    "\n",
    "media(valores)"
   ]
  },
  {
   "cell_type": "markdown",
   "metadata": {},
   "source": [
    "## Quartil / Percentil"
   ]
  },
  {
   "cell_type": "markdown",
   "metadata": {},
   "source": [
    "São medidas que dividem a amostra ordenada (por ordem crescente dos dados). O percentil é essa medida em 100 partes."
   ]
  },
  {
   "cell_type": "code",
   "execution_count": null,
   "metadata": {
    "scrolled": false
   },
   "outputs": [],
   "source": [
    "titanic.Age.describe()[[\"25%\", \"50%\", \"75%\"]]"
   ]
  },
  {
   "cell_type": "markdown",
   "metadata": {},
   "source": [
    "#### Para pegarmos o Primeiro Quartil ou percentil 25?"
   ]
  },
  {
   "cell_type": "code",
   "execution_count": null,
   "metadata": {},
   "outputs": [],
   "source": [
    "titanic.Age.quantile(0.25)"
   ]
  },
  {
   "cell_type": "markdown",
   "metadata": {},
   "source": [
    "Um quantil, por outro lado, é uma medida que depende de quantas partes usamos da população. Alguns quantis tem nomes especiais, como o os quartis (4-quantis) ou percentis (100-quantis). Eles recebem esse nome porque representam em quantas partes a população foi dividida (em 4 ou 100 no exemplo aqui, respectivamente)."
   ]
  },
  {
   "cell_type": "markdown",
   "metadata": {},
   "source": [
    "## <font color='blue'>Como pegamos o percentil 80?</font>\n",
    "![alt text](https://databootcamp.nyc3.digitaloceanspaces.com/img/atrasada-relogio-pulso-1116-1400x800.jpg)"
   ]
  },
  {
   "cell_type": "code",
   "execution_count": null,
   "metadata": {},
   "outputs": [],
   "source": [
    "#solução"
   ]
  },
  {
   "cell_type": "markdown",
   "metadata": {},
   "source": [
    "## O percentil 50 também é chamado de MEDIANA\n",
    "Ele é muito usado para encontrar um valor central da sua distribuição."
   ]
  },
  {
   "cell_type": "code",
   "execution_count": null,
   "metadata": {},
   "outputs": [],
   "source": [
    "titanic.Age.quantile(0.50)"
   ]
  },
  {
   "cell_type": "code",
   "execution_count": null,
   "metadata": {},
   "outputs": [],
   "source": [
    "titanic.Age.median()"
   ]
  },
  {
   "cell_type": "markdown",
   "metadata": {},
   "source": [
    "### Vamos dar uma olhada mais a fundo pra gente revisar como as mediana funcionam"
   ]
  },
  {
   "cell_type": "markdown",
   "metadata": {},
   "source": [
    "![alt text](https://databootcamp.nyc3.digitaloceanspaces.com/img/maxresdefault.jpg)"
   ]
  },
  {
   "cell_type": "markdown",
   "metadata": {},
   "source": [
    "É o valor médio de uma distribuição ordenada, no qual apresenta o mesmo número de valores abaixo e acima desse valor.\n",
    "Se a distribuição tiver números ímpares ele é um único valor, se a distribuição tiver números pares é a média dos 2 valores centrais.\n",
    "\n",
    "A mediana separa a distribuição em duas partes iguais. Metade da distribuição possui valores acima da mediana e, a outra metade, abaixo."
   ]
  },
  {
   "cell_type": "code",
   "execution_count": null,
   "metadata": {},
   "outputs": [],
   "source": [
    "impar = [1, 10, 20, 30, 1000]"
   ]
  },
  {
   "cell_type": "code",
   "execution_count": null,
   "metadata": {},
   "outputs": [],
   "source": [
    "numpy.median(impar)"
   ]
  },
  {
   "cell_type": "markdown",
   "metadata": {},
   "source": [
    "**Não sofre impacto dos valores extremos como a média**"
   ]
  },
  {
   "cell_type": "code",
   "execution_count": null,
   "metadata": {},
   "outputs": [],
   "source": [
    "numpy.mean(impar)"
   ]
  },
  {
   "cell_type": "markdown",
   "metadata": {},
   "source": [
    "## <font color='blue'>Qual a mediana da distribuição [1,10,20,30]?</font>\n",
    "\n",
    "Como ela é uma distribuição par, o valor da mediana vai ser a média entre os dois elementos centrais (10,20)\n",
    "\n",
    "![alt text](https://databootcamp.nyc3.digitaloceanspaces.com/img/atrasada-relogio-pulso-1116-1400x800.jpg)"
   ]
  },
  {
   "cell_type": "code",
   "execution_count": null,
   "metadata": {},
   "outputs": [],
   "source": [
    "#solução"
   ]
  },
  {
   "cell_type": "markdown",
   "metadata": {},
   "source": [
    "## Vamos aplicar um pouco essas métricas com BoxPlot"
   ]
  },
  {
   "cell_type": "markdown",
   "metadata": {},
   "source": [
    "É um dos gráficos favoritos para analisar uma distribuição. \n",
    "Ele pega os dados que apresentamos no describe e exibe de forma gráfica.\n",
    "\n",
    "\n",
    "O boxplot é como um histograma \"visto de cima\". A caixinha central contém 50% de todos os pontos da distribuição. Ou seja, é onde se concentra boa parte dos valores da distribuição. Com esse desenho, é possível ter uma noção sobre a simetria do conjunto, bem como outros detalhes importantes. Tudo isso com um recurso visual!"
   ]
  },
  {
   "cell_type": "code",
   "execution_count": null,
   "metadata": {
    "scrolled": true
   },
   "outputs": [],
   "source": [
    "titanic.boxplot(\"Age\")"
   ]
  },
  {
   "cell_type": "markdown",
   "metadata": {},
   "source": [
    "### \"O grande valor de uma imagem é quando ela nos obriga a notar o que nunca esperávamos ver.\" - Tukey"
   ]
  },
  {
   "cell_type": "markdown",
   "metadata": {},
   "source": [
    "A interpretação do gráfico é:\n",
    "- Exibe os percentis 25, 50, 75 em um retangulo que é chamado de IQR (Amplitude Interquartílica): Q3 - Q1\n",
    "- A whisker inferior (limite inferior) é o percentil 25 (quartil 1) menos 1.5 multiplicado pelo IQR ($LI = Q1 - 1.5 * IQR$)\n",
    "- A whisker superior (limite superior) é o percentil 75 (quartil 3) mais 1.5 multiplicado pelo IQR ($LS = Q3 + 1.5 * IQR$)\n",
    "- Os pontos chamados de **outliers** (atípicos)"
   ]
  },
  {
   "cell_type": "markdown",
   "metadata": {},
   "source": [
    "#### Vamos ver esses valores calculados para a coluna *Age* no Titanic"
   ]
  },
  {
   "cell_type": "markdown",
   "metadata": {},
   "source": [
    "Aqui temos o IQR"
   ]
  },
  {
   "cell_type": "code",
   "execution_count": null,
   "metadata": {},
   "outputs": [],
   "source": [
    "iqr = titanic.Age.quantile(0.75) - titanic.Age.quantile(0.25)\n",
    "iqr"
   ]
  },
  {
   "cell_type": "markdown",
   "metadata": {},
   "source": [
    "Tendo o IQR conseguimos extrair o limite superior e inferior"
   ]
  },
  {
   "cell_type": "code",
   "execution_count": null,
   "metadata": {},
   "outputs": [],
   "source": [
    "limite_superior = titanic.Age.quantile(0.75) + 1.5 * iqr\n",
    "limite_superior"
   ]
  },
  {
   "cell_type": "code",
   "execution_count": null,
   "metadata": {},
   "outputs": [],
   "source": [
    "limite_inferior = titanic.Age.quantile(0.25) - 1.5 * iqr\n",
    "limite_inferior"
   ]
  },
  {
   "cell_type": "markdown",
   "metadata": {},
   "source": [
    "![alt text](https://databootcamp.nyc3.digitaloceanspaces.com/img/Diagrama_de_caixa2.png)"
   ]
  },
  {
   "cell_type": "markdown",
   "metadata": {},
   "source": [
    "É possível analisar 2 BoxPlots de forma comparativa agrupando por uma coluna."
   ]
  },
  {
   "cell_type": "code",
   "execution_count": null,
   "metadata": {},
   "outputs": [],
   "source": [
    "titanic.boxplot(\"Age\", by=\"Sex\")"
   ]
  },
  {
   "cell_type": "markdown",
   "metadata": {},
   "source": [
    "Essa visão é muito útil para ter alguma previsão sobre a resposta para alguns tipos de perguntas sobre os dados. Por exemplo, olhando assim, parece que temos alguma diferença entre a distribuição de idade por gênero?\n",
    "\n",
    "O que eu precisaria enxergar aqui para mudar de opinião?"
   ]
  },
  {
   "cell_type": "markdown",
   "metadata": {},
   "source": [
    "## <font color='blue'>Crie um BoxPlot com a coluna preenchida *AgeFillNaSexMean*</font>\n",
    "![alt text](https://databootcamp.nyc3.digitaloceanspaces.com/img/atrasada-relogio-pulso-1116-1400x800.jpg)"
   ]
  },
  {
   "cell_type": "code",
   "execution_count": null,
   "metadata": {},
   "outputs": [],
   "source": [
    "#solução"
   ]
  },
  {
   "cell_type": "markdown",
   "metadata": {},
   "source": [
    "\n",
    "## Moda\n",
    "\n",
    "É o valor da distribuição que ocorre com a maior frequência, ou seja, o valor que mais se repete dentro de uma série de observações. \n",
    "\n",
    "![alt text](https://databootcamp.nyc3.digitaloceanspaces.com/img/histogram.png)"
   ]
  },
  {
   "cell_type": "code",
   "execution_count": null,
   "metadata": {},
   "outputs": [],
   "source": [
    "#a moda retorna uma lista pois podemos ter mais um de um elemento no top\n",
    "titanic.Age.mode() "
   ]
  },
  {
   "cell_type": "markdown",
   "metadata": {},
   "source": [
    "#### Para pegarmos uma moda só podemos pegar a primeira"
   ]
  },
  {
   "cell_type": "code",
   "execution_count": null,
   "metadata": {},
   "outputs": [],
   "source": [
    "titanic.Age.mode()[0]"
   ]
  },
  {
   "cell_type": "code",
   "execution_count": null,
   "metadata": {
    "scrolled": false
   },
   "outputs": [],
   "source": [
    "titanic.Age.value_counts()"
   ]
  },
  {
   "cell_type": "markdown",
   "metadata": {},
   "source": [
    "## Variância\n",
    "É uma medida de dispersão quadratica que mostra o quão distante cada valor desse conjunto está do valor central."
   ]
  },
  {
   "cell_type": "markdown",
   "metadata": {},
   "source": [
    "O cálculo da variância populacional é obtido através da soma dos quadrados da diferença entre cada valor e a média aritmética, dividida pela quantidade de elementos observados. \n",
    "\n",
    "![alt text](https://databootcamp.nyc3.digitaloceanspaces.com/img/aid867321-v4-728px-Calculate-Variance-Step-10.jpg)"
   ]
  },
  {
   "cell_type": "markdown",
   "metadata": {},
   "source": [
    "### Vamos pensar no número de horas trabalhadas em uma empresa\n",
    "\n",
    "Como sabemos quão disperso é o número de horas trabalhadas pelos nossos funcionários? Será que todos estão trabalhando um número de horas parecida em cada dia?"
   ]
  },
  {
   "cell_type": "markdown",
   "metadata": {},
   "source": [
    "![alt text](https://databootcamp.nyc3.digitaloceanspaces.com/img/6y9Vnsw.png)"
   ]
  },
  {
   "cell_type": "markdown",
   "metadata": {},
   "source": [
    "Vimos que a variância de horas do funcionário **A** durante a semana é 2."
   ]
  },
  {
   "cell_type": "markdown",
   "metadata": {},
   "source": [
    "### Como podemos tirar do GREGO e colocar em código?\n",
    "\n",
    "Com o Numpy e com o Pandas já temos isso implementado."
   ]
  },
  {
   "cell_type": "code",
   "execution_count": null,
   "metadata": {},
   "outputs": [],
   "source": [
    "numpy.var([10,9,11,12,8])"
   ]
  },
  {
   "cell_type": "code",
   "execution_count": null,
   "metadata": {},
   "outputs": [],
   "source": [
    "titanic.Age.var()"
   ]
  },
  {
   "cell_type": "markdown",
   "metadata": {},
   "source": [
    "## <font color='blue'>Qual a variância de horas trabalhadas entre os funcionários por semana?</font>\n",
    "Vimos a variância de horas na semana, mas e entre os funcionários? Existem pessoas trabalhando mais que as outras na semana?\n",
    "![alt text](https://databootcamp.nyc3.digitaloceanspaces.com/img/atrasada-relogio-pulso-1116-1400x800.jpg)"
   ]
  },
  {
   "cell_type": "code",
   "execution_count": null,
   "metadata": {},
   "outputs": [],
   "source": [
    "#solução"
   ]
  },
  {
   "cell_type": "markdown",
   "metadata": {},
   "source": [
    "### Cuidado! A variância é muito afetada por valores extremos"
   ]
  },
  {
   "cell_type": "code",
   "execution_count": null,
   "metadata": {},
   "outputs": [],
   "source": [
    "lista_de_exemplo = [1, 100, 50]\n",
    "numpy.var(lista_de_exemplo)"
   ]
  },
  {
   "cell_type": "markdown",
   "metadata": {},
   "source": [
    "## Desvio Padrão - stddev\n",
    "\n",
    "Vimos que a variância é muito afetada por valores extremos. Para evitar isso, usamos o desvio padrão.\n",
    "\n",
    "**desvio_padrao = √variancia**\n",
    "\n",
    "\n",
    "Com o desvio padrão você é capaz de identificar o “erro” que podemos ter ao substituir um dos valores coletados pela média aritmética. Inclusive como já fizemos aqui!\n",
    "\n",
    "No caso, vocês substituíram o valor de idade pela média. Podemos validar se isso é confiável!"
   ]
  },
  {
   "cell_type": "code",
   "execution_count": null,
   "metadata": {},
   "outputs": [],
   "source": [
    "titanic.Age.std()"
   ]
  },
  {
   "cell_type": "markdown",
   "metadata": {},
   "source": [
    "Temos uma chance de erro aparentemente grande. **Uma variação de 14,52 na idade é muita coisa!**"
   ]
  },
  {
   "cell_type": "markdown",
   "metadata": {},
   "source": [
    "Podemos ver a utilização do desvio padrão na apresentação da média aritmética, informando o quão “confiável” é esse valor.\n",
    "\n",
    "**média aritmética (x) ± desvio padrão (dp)**"
   ]
  },
  {
   "cell_type": "code",
   "execution_count": null,
   "metadata": {},
   "outputs": [],
   "source": [
    "titanic.Age.mean()"
   ]
  },
  {
   "cell_type": "markdown",
   "metadata": {},
   "source": [
    "Aqui teríamos 29,69 ± 14,52... Ou seja, substiuindo a média das idades por idades faltantes temos a chance de colocar a idade de 29 anos para quem tem mais de 40 anos ou para um adolescente de 15 anos!"
   ]
  },
  {
   "cell_type": "code",
   "execution_count": null,
   "metadata": {},
   "outputs": [],
   "source": [
    "titanic.Age.mean() - titanic.Age.std()"
   ]
  },
  {
   "cell_type": "code",
   "execution_count": null,
   "metadata": {},
   "outputs": [],
   "source": [
    "titanic.Age.mean() + titanic.Age.std()"
   ]
  },
  {
   "cell_type": "markdown",
   "metadata": {},
   "source": [
    "## <font color='blue'>Mas e quando separamos por gênero? Será que diminui o erro?</font>\n",
    "![alt text](https://databootcamp.nyc3.digitaloceanspaces.com/img/atrasada-relogio-pulso-1116-1400x800.jpg)"
   ]
  },
  {
   "cell_type": "code",
   "execution_count": null,
   "metadata": {},
   "outputs": [],
   "source": [
    "#solução"
   ]
  },
  {
   "cell_type": "code",
   "execution_count": null,
   "metadata": {},
   "outputs": [],
   "source": []
  }
 ],
 "metadata": {
  "kernelspec": {
   "display_name": "Python 3",
   "language": "python",
   "name": "python3"
  },
  "language_info": {
   "codemirror_mode": {
    "name": "ipython",
    "version": 3
   },
   "file_extension": ".py",
   "mimetype": "text/x-python",
   "name": "python",
   "nbconvert_exporter": "python",
   "pygments_lexer": "ipython3",
   "version": "3.8.2"
  }
 },
 "nbformat": 4,
 "nbformat_minor": 4
}
