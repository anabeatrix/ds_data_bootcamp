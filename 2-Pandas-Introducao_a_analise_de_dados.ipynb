{
 "cells": [
  {
   "cell_type": "markdown",
   "metadata": {
    "colab_type": "text",
    "hideCode": false,
    "hidePrompt": false,
    "id": "HRQ5MAO-5fun"
   },
   "source": [
    "# Iniciando a exploração dos Dados\n",
    "\n",
    "\n",
    "Até agora nós vimos python puro. Vamos lidar com ferramentas usadas no dia-a-dia para facilitar a análise de dados.\n",
    "\n",
    "![pandas](https://urldefense.com/v3/__https://static.boredpanda.com/blog/wp-content/uploads/2014/05/funny-animals-doing-yoga-20.jpg)*5Cn__;JQ!!PnTax73cffqfJow!h-X7YnwLlIgjtx7V0d_9LNBU3IVlkAsOajdKyRJBNNSYFlDd0Hw1Mck94DlOh0Vk$ ",
    "\n",
    "## PANDAS \n",
    "É a biblioteca mais popular para analisar dados. Com ela importar dado, filtrar e gerar gráficos é bem fácil.\n",
    "\n",
    "## Ok?! E o que são bibliotecas?\n",
    "É um conjunto de funções que as pessoas criam com a ideia de reaproveitamento de código.\n",
    "\n",
    "## Como eu uso as bibliotecas? \n",
    "As bibliotecas precisam ser instaladas e \"importadas\" para o seu código. Nós já instalamos algumas bem legais nos nossos servidores e podemos só usá-las <3\n",
    "\n",
    "## Open source <3\n",
    "O Pandas é feito por uma comunidade de desenvolvedores de todo mundo, você pode fazer parte dessa comunidade, desenvolvendo, listando problemas (issues) e melhorando a documentação. Você ajuda acessando esse [GitHub](https://urldefense.com/v3/__https://github.com/pandas-dev/pandas).*5Cn__;JQ!!PnTax73cffqfJow!h-X7YnwLlIgjtx7V0d_9LNBU3IVlkAsOajdKyRJBNNSYFlDd0Hw1Mck94PsFBQ_3$ ",
    "\n"
   ]
  },
  {
   "cell_type": "code",
   "execution_count": null,
   "metadata": {
    "colab": {},
    "colab_type": "code",
    "hideCode": false,
    "hidePrompt": false,
    "id": "gK05Ssis5fuo"
   },
   "outputs": [],
   "source": [
    "import pandas"
   ]
  },
  {
   "cell_type": "markdown",
   "metadata": {
    "colab_type": "text",
    "id": "em_tm0R75fur"
   },
   "source": [
    "### 1 - Vamos começar lendo um CSV (Comma-separated values) com o pandas"
   ]
  },
  {
   "cell_type": "code",
   "execution_count": null,
   "metadata": {
    "colab": {},
    "colab_type": "code",
    "id": "FXD9vmX55fus"
   },
   "outputs": [],
   "source": [
    "titanic = pandas.read_csv(\"https://urldefense.com/v3/__https://databootcamp.nyc3.digitaloceanspaces.com/titanic.csv*5C__;JQ!!PnTax73cffqfJow!h-X7YnwLlIgjtx7V0d_9LNBU3IVlkAsOajdKyRJBNNSYFlDd0Hw1Mck94OTQtugu$ ")"
   ]
  },
  {
   "cell_type": "markdown",
   "metadata": {
    "colab_type": "text",
    "hideCode": false,
    "hidePrompt": false,
    "id": "2e8eRT4R5fuv"
   },
   "source": [
    "![titanic](https://urldefense.com/v3/__http://thespiritscience.net/wp-content/uploads/2016/06/Titanic-sinking.jpg)*5Cn__;JQ!!PnTax73cffqfJow!h-X7YnwLlIgjtx7V0d_9LNBU3IVlkAsOajdKyRJBNNSYFlDd0Hw1Mck94MhliBR4$ ",
    "\n",
    "Assim como leitura de csv, tem vários tipos de leitura de arquivo.\n",
    "\n",
    "**Dica: Quando você quiser saber oque é possível fazer com aquela função o Jupyter tem um atalho para isso que é o `?`**"
   ]
  },
  {
   "cell_type": "code",
   "execution_count": null,
   "metadata": {
    "colab": {},
    "colab_type": "code",
    "hideCode": false,
    "hidePrompt": false,
    "id": "xXZZ3H6Y5fuz"
   },
   "outputs": [],
   "source": [
    "pandas.read_csv?"
   ]
  },
  {
   "cell_type": "markdown",
   "metadata": {
    "colab_type": "text",
    "id": "wBmCOH8N71d2"
   },
   "source": [
    "**Dica: O Jupyter tem autocomplete, use bastante! Você acessa ele apertando o `tab`**"
   ]
  },
  {
   "cell_type": "code",
   "execution_count": null,
   "metadata": {
    "colab": {},
    "colab_type": "code",
    "hideCode": false,
    "hidePrompt": false,
    "id": "UN6sA12m5fuw"
   },
   "outputs": [],
   "source": [
    "#pandas.read_ # aperte o tab"
   ]
  },
  {
   "cell_type": "markdown",
   "metadata": {
    "colab_type": "text",
    "hideCode": false,
    "hidePrompt": false,
    "id": "5eRzdZ8z5fu3"
   },
   "source": [
    "No nosso caso o arquivo veio realmente separado por vírgula.\n",
    "\n",
    "Se não viesse poderíamos usar o parâmetro `sep`\n",
    "\n",
    "```\n",
    "titanic = pandas.read_csv(\"titanic.csv\", sep=\",\")\n",
    "```"
   ]
  },
  {
   "cell_type": "markdown",
   "metadata": {
    "colab_type": "text",
    "hideCode": false,
    "hidePrompt": false,
    "id": "TxcdQ1bS5fu3"
   },
   "source": [
    "### 2 - Olhando algumas linhas do DataFrame\n",
    "\n",
    "A função `head` retorna as primeiras 5 linhas do seu DataFrame."
   ]
  },
  {
   "cell_type": "code",
   "execution_count": null,
   "metadata": {
    "colab": {
     "base_uri": "https://urldefense.com/v3/__https://localhost:8080/__;!!PnTax73cffqfJow!h-X7YnwLlIgjtx7V0d_9LNBU3IVlkAsOajdKyRJBNNSYFlDd0Hw1Mck94FQhhE0P$ ",
     "height": 204
    },
    "colab_type": "code",
    "hideCode": false,
    "hidePrompt": false,
    "id": "mfCcLteq5fu4",
    "outputId": "6d7ea3c6-bb45-41f0-f4c8-0e4f72c4e22d",
    "scrolled": true
   },
   "outputs": [],
   "source": [
    "titanic.head()"
   ]
  },
  {
   "cell_type": "code",
   "execution_count": null,
   "metadata": {
    "colab": {
     "base_uri": "https://urldefense.com/v3/__https://localhost:8080/__;!!PnTax73cffqfJow!h-X7YnwLlIgjtx7V0d_9LNBU3IVlkAsOajdKyRJBNNSYFlDd0Hw1Mck94FQhhE0P$ ",
     "height": 34
    },
    "colab_type": "code",
    "hideCode": false,
    "hidePrompt": false,
    "id": "HiMS--x-5fu7",
    "outputId": "3e1eaad4-0995-4073-c93b-ee5f18a70235"
   },
   "outputs": [],
   "source": [
    "type(titanic)"
   ]
  },
  {
   "cell_type": "markdown",
   "metadata": {
    "colab_type": "text",
    "id": "eeXI_7Hl5fvA"
   },
   "source": [
    "#### DataFrame é um tipo do pandas que representa os dados de forma tabular, parecendo muito com uma tabela do Excel.\n",
    "![](https://urldefense.com/v3/__https://www.tutorialspoint.com/python_pandas/images/structure_table.jpg)*5Cn__;JQ!!PnTax73cffqfJow!h-X7YnwLlIgjtx7V0d_9LNBU3IVlkAsOajdKyRJBNNSYFlDd0Hw1Mck94KltoN2g$ ",
    "\n",
    "E se as 5 linhas não forem o suficiente?"
   ]
  },
  {
   "cell_type": "code",
   "execution_count": null,
   "metadata": {
    "colab": {
     "base_uri": "https://urldefense.com/v3/__https://localhost:8080/__;!!PnTax73cffqfJow!h-X7YnwLlIgjtx7V0d_9LNBU3IVlkAsOajdKyRJBNNSYFlDd0Hw1Mck94FQhhE0P$ ",
     "height": 359
    },
    "colab_type": "code",
    "hideCode": false,
    "hidePrompt": false,
    "id": "4CJES9135fvB",
    "outputId": "ecf2a138-8aa1-478c-e004-1ec8d5cf608c",
    "scrolled": true
   },
   "outputs": [],
   "source": [
    "titanic.head(10)"
   ]
  },
  {
   "cell_type": "markdown",
   "metadata": {
    "colab_type": "text",
    "hideCode": false,
    "hidePrompt": false,
    "id": "siUMGV7l5fvE"
   },
   "source": [
    "**Por que usamos o Titanic?**\n",
    "\n",
    "O Titanic é um dataset baseado em um dado público, ele ficou popular na comunidade de ciência de dados por ter bastante problemas conhecidos quando analisamos dados nas nossas empresas, dada as características e problemas desse dataset nós conseguimos simular cenários reais.\n",
    "\n",
    "A sua popularidade ficou maior quando se tornou um desafio do Kaggle, uma dica que vai ajudar muito nas suas aulas é você analisar alguns notebooks já prontons na própria plataforma.\n",
    "\n",
    "[Desafio do Titanic no Kaggle](https://urldefense.com/v3/__https://www.kaggle.com/c/titanic/)*5Cn__;JQ!!PnTax73cffqfJow!h-X7YnwLlIgjtx7V0d_9LNBU3IVlkAsOajdKyRJBNNSYFlDd0Hw1Mck94KQy6WS1$ ",
    "\n",
    "**O que significa cada coluna?**\n",
    "\n",
    "* survived: Sobreviventes\n",
    "    - (0 = Não; 1 = Sim)\n",
    "* pclass: Classe do passageiro\n",
    "     - (1 = Primeira; 2 = Segunda; 3 = Terceira)\n",
    "* name: Nome\n",
    "* sex: Sexo\n",
    "* age: Idade\n",
    "* sibsp: Número de irmão/cônjuges a bordo\n",
    "* parch: Número de filhos/pais a bordo\n",
    "* ticket: Número do ticket\n",
    "* fare: Preço da Passagem\n",
    "* cabin: Cabine\n",
    "* embarked: Porto de embarque\n",
    "    * [C = Cherbourg (França); Q = Queenstown (Irlanda); S = Southampton (Inglaterra)]"
   ]
  },
  {
   "cell_type": "markdown",
   "metadata": {
    "colab_type": "text",
    "hideCode": false,
    "hidePrompt": false,
    "id": "txQYB8ed5fvE"
   },
   "source": [
    "### Series\n",
    "**Como retornamos os dados de uma única coluna?**"
   ]
  },
  {
   "cell_type": "code",
   "execution_count": null,
   "metadata": {
    "colab": {
     "base_uri": "https://urldefense.com/v3/__https://localhost:8080/__;!!PnTax73cffqfJow!h-X7YnwLlIgjtx7V0d_9LNBU3IVlkAsOajdKyRJBNNSYFlDd0Hw1Mck94FQhhE0P$ ",
     "height": 119
    },
    "colab_type": "code",
    "hideCode": false,
    "hidePrompt": false,
    "id": "l0HSrBAa5fvF",
    "outputId": "4fc1fc9e-7a72-4ea8-8e34-55a49a3fe77e"
   },
   "outputs": [],
   "source": [
    "titanic[\"PassengerId\"].head()  # parece um dicionário!"
   ]
  },
  {
   "cell_type": "markdown",
   "metadata": {
    "colab_type": "text",
    "hideCode": false,
    "hidePrompt": false,
    "id": "_MDXHLEi5fvH"
   },
   "source": [
    "**Também é possível acessar por `.` \"ponto\"**"
   ]
  },
  {
   "cell_type": "code",
   "execution_count": null,
   "metadata": {
    "colab": {
     "base_uri": "https://urldefense.com/v3/__https://localhost:8080/__;!!PnTax73cffqfJow!h-X7YnwLlIgjtx7V0d_9LNBU3IVlkAsOajdKyRJBNNSYFlDd0Hw1Mck94FQhhE0P$ ",
     "height": 119
    },
    "colab_type": "code",
    "hideCode": false,
    "hidePrompt": false,
    "id": "uzQHkwMa5fvI",
    "outputId": "64881e71-4156-42de-f4b9-bf2b2cb77398"
   },
   "outputs": [],
   "source": [
    "titanic.PassengerId.head()"
   ]
  },
  {
   "cell_type": "markdown",
   "metadata": {
    "colab_type": "text",
    "hideCode": false,
    "hidePrompt": false,
    "id": "C1fjMTHM5fvL"
   },
   "source": [
    "**O tipo de uma coluna é chamado de Series**"
   ]
  },
  {
   "cell_type": "code",
   "execution_count": null,
   "metadata": {
    "colab": {
     "base_uri": "https://urldefense.com/v3/__https://localhost:8080/__;!!PnTax73cffqfJow!h-X7YnwLlIgjtx7V0d_9LNBU3IVlkAsOajdKyRJBNNSYFlDd0Hw1Mck94FQhhE0P$ ",
     "height": 34
    },
    "colab_type": "code",
    "hideCode": false,
    "hidePrompt": false,
    "id": "aqAQmCbK5fvL",
    "outputId": "2d74df77-e9aa-4e35-8a2b-78862055f56e"
   },
   "outputs": [],
   "source": [
    "type(titanic.PassengerId)"
   ]
  },
  {
   "cell_type": "markdown",
   "metadata": {
    "colab_type": "text",
    "hideCode": false,
    "hidePrompt": false,
    "id": "g35zbnXP5fvO"
   },
   "source": [
    "Uma Série é uma lista, com uma dimensão, indexada.\n",
    "\n",
    "![](https://urldefense.com/v3/__https://i0.wp.com/www.emilkhatib.com/wp-content/uploads/2015/10/SeriesEN.png)*5Cn__;JQ!!PnTax73cffqfJow!h-X7YnwLlIgjtx7V0d_9LNBU3IVlkAsOajdKyRJBNNSYFlDd0Hw1Mck94DXQ2lUs$ ",
    "\n",
    "## Chegou a sua vez!\n",
    "\n",
    "### **Desafio:** Selecione a coluna `Sex` e exiba os primeiros 20 valores\n",
    "![alt text](https://urldefense.com/v3/__https://static.vix.com/pt/sites/default/files/styles/large/public/a/atrasada-relogio-pulso-1116-1400x800.jpg?itok=qv3gUH6U__;!!PnTax73cffqfJow!h-X7YnwLlIgjtx7V0d_9LNBU3IVlkAsOajdKyRJBNNSYFlDd0Hw1Mck94OPz8fQU$ )"
   ]
  },
  {
   "cell_type": "code",
   "execution_count": null,
   "metadata": {
    "colab": {},
    "colab_type": "code",
    "id": "6gXVbWZD5fvO"
   },
   "outputs": [],
   "source": [
    "#solução"
   ]
  },
  {
   "cell_type": "markdown",
   "metadata": {
    "colab_type": "text",
    "id": "Ov39ffOgB2rD"
   },
   "source": [
    "**Quando precisamos retornar mais de uma coluna criamos uma lista**"
   ]
  },
  {
   "cell_type": "code",
   "execution_count": null,
   "metadata": {
    "colab": {
     "base_uri": "https://urldefense.com/v3/__https://localhost:8080/__;!!PnTax73cffqfJow!h-X7YnwLlIgjtx7V0d_9LNBU3IVlkAsOajdKyRJBNNSYFlDd0Hw1Mck94FQhhE0P$ ",
     "height": 204
    },
    "colab_type": "code",
    "id": "sDZk4dZ0CDqg",
    "outputId": "1beff150-bf52-41db-f356-c22fccfd3063"
   },
   "outputs": [],
   "source": [
    "col_id_sex = [\"PassengerId\",\"Sex\"]\n",
    "\n",
    "titanic[col_id_sex].head()"
   ]
  },
  {
   "cell_type": "markdown",
   "metadata": {
    "colab_type": "text",
    "id": "BsSj3uvFC_8Q"
   },
   "source": [
    "Quando retornamos mais de uma coluna ao invés de retornarmos uma `Serie` estamos retornando um `DataFrame`."
   ]
  },
  {
   "cell_type": "code",
   "execution_count": null,
   "metadata": {
    "colab": {
     "base_uri": "https://urldefense.com/v3/__https://localhost:8080/__;!!PnTax73cffqfJow!h-X7YnwLlIgjtx7V0d_9LNBU3IVlkAsOajdKyRJBNNSYFlDd0Hw1Mck94FQhhE0P$ ",
     "height": 34
    },
    "colab_type": "code",
    "id": "FsuW8QacDJzQ",
    "outputId": "52108c14-61d3-4a01-9382-16c2f0f94aa9"
   },
   "outputs": [],
   "source": [
    "type(titanic[col_id_sex])"
   ]
  },
  {
   "cell_type": "markdown",
   "metadata": {
    "colab_type": "text",
    "id": "mLjEXFExCMHb"
   },
   "source": [
    "**Dica: Crie uma lista separada e com nomes que façam sentido para evitar confusão ao longo da análise.**\n",
    "\n",
    "Evite fazer tudo em uma linha só, isso dificulta a legibilidade."
   ]
  },
  {
   "cell_type": "code",
   "execution_count": null,
   "metadata": {
    "colab": {
     "base_uri": "https://urldefense.com/v3/__https://localhost:8080/__;!!PnTax73cffqfJow!h-X7YnwLlIgjtx7V0d_9LNBU3IVlkAsOajdKyRJBNNSYFlDd0Hw1Mck94FQhhE0P$ ",
     "height": 204
    },
    "colab_type": "code",
    "id": "5RsDj7bZCVft",
    "outputId": "29af185e-79b1-44fc-fc50-97cc42ab9458"
   },
   "outputs": [],
   "source": [
    "titanic[[\"PassengerId\",\"Sex\"]].head()"
   ]
  },
  {
   "cell_type": "markdown",
   "metadata": {
    "colab_type": "text",
    "hideCode": false,
    "hidePrompt": false,
    "id": "YkWqO48p5fvR"
   },
   "source": [
    "### 3 - Algumas informações do DataFrame"
   ]
  },
  {
   "cell_type": "markdown",
   "metadata": {
    "colab_type": "text",
    "hideCode": false,
    "hidePrompt": false,
    "id": "j-orpNpM5fvR"
   },
   "source": [
    "**Qual a dimensão dos dados (Linhas x Colunas)?**"
   ]
  },
  {
   "cell_type": "code",
   "execution_count": null,
   "metadata": {
    "colab": {
     "base_uri": "https://urldefense.com/v3/__https://localhost:8080/__;!!PnTax73cffqfJow!h-X7YnwLlIgjtx7V0d_9LNBU3IVlkAsOajdKyRJBNNSYFlDd0Hw1Mck94FQhhE0P$ ",
     "height": 34
    },
    "colab_type": "code",
    "hideCode": false,
    "hidePrompt": false,
    "id": "_yw17Xcy5fvS",
    "outputId": "47b8de23-680a-4795-edc1-a61b460ae14b"
   },
   "outputs": [],
   "source": [
    "titanic.shape"
   ]
  },
  {
   "cell_type": "markdown",
   "metadata": {
    "colab_type": "text",
    "hideCode": false,
    "hidePrompt": false,
    "id": "MXZFSHXu5fvU"
   },
   "source": [
    "Ao importar o CSV, o Dataframe inclui uma coluna index, que não esta no arquivo. **Essa coluna é como se fosse um índice de linha do Excel.**"
   ]
  },
  {
   "cell_type": "code",
   "execution_count": null,
   "metadata": {
    "colab": {
     "base_uri": "https://urldefense.com/v3/__https://localhost:8080/__;!!PnTax73cffqfJow!h-X7YnwLlIgjtx7V0d_9LNBU3IVlkAsOajdKyRJBNNSYFlDd0Hw1Mck94FQhhE0P$ ",
     "height": 34
    },
    "colab_type": "code",
    "hideCode": false,
    "hidePrompt": false,
    "id": "0TfozlML5fvV",
    "outputId": "925410ee-9e75-4d04-a420-602ab966b203"
   },
   "outputs": [],
   "source": [
    "titanic.index"
   ]
  },
  {
   "cell_type": "markdown",
   "metadata": {
    "colab_type": "text",
    "hideCode": false,
    "hidePrompt": false,
    "id": "SnSZa0eU5fvX"
   },
   "source": [
    "**Quais são as colunas do Dataframe?**"
   ]
  },
  {
   "cell_type": "code",
   "execution_count": null,
   "metadata": {
    "colab": {
     "base_uri": "https://urldefense.com/v3/__https://localhost:8080/__;!!PnTax73cffqfJow!h-X7YnwLlIgjtx7V0d_9LNBU3IVlkAsOajdKyRJBNNSYFlDd0Hw1Mck94FQhhE0P$ ",
     "height": 68
    },
    "colab_type": "code",
    "hideCode": false,
    "hidePrompt": false,
    "id": "oP4Z3-Rx5fvY",
    "outputId": "4ad4f780-0503-4570-db69-1c1412da9bf4",
    "scrolled": true
   },
   "outputs": [],
   "source": [
    "titanic.columns"
   ]
  },
  {
   "cell_type": "markdown",
   "metadata": {
    "colab_type": "text",
    "id": "uPt3U9Q6Cyoo"
   },
   "source": [
    "### **Desafio:** Retorne as primeiros 5 linhas de um DataFrame com todas as colunas menos a `Embarked`?\n",
    "\n",
    "Lembrete: `Embarked` é a última coluna.\n",
    "![alt text](https://urldefense.com/v3/__https://static.vix.com/pt/sites/default/files/styles/large/public/a/atrasada-relogio-pulso-1116-1400x800.jpg?itok=qv3gUH6U__;!!PnTax73cffqfJow!h-X7YnwLlIgjtx7V0d_9LNBU3IVlkAsOajdKyRJBNNSYFlDd0Hw1Mck94OPz8fQU$ )"
   ]
  },
  {
   "cell_type": "code",
   "execution_count": null,
   "metadata": {
    "colab": {},
    "colab_type": "code",
    "id": "XAgY4u4hDOwM"
   },
   "outputs": [],
   "source": [
    "#solução"
   ]
  },
  {
   "cell_type": "markdown",
   "metadata": {
    "colab_type": "text",
    "hideCode": false,
    "hidePrompt": false,
    "id": "6IQ_uOmd5fva"
   },
   "source": [
    "**Quais são os tipos de cada coluna?**\n",
    "\n",
    "\n",
    "| Pandas dtype  | Python type  | Uso                                                   |\n",
    "|---------------|--------------|-------------------------------------------------------|\n",
    "| object        | str or mixed | Texto or mistura de valores numérico and não numérico |\n",
    "| int64         | int          | Números inteiros                                      |\n",
    "| float64       | float        | Números decimais (ponto flutuante)                    |\n",
    "| bool          | bool         | Valores booleanos True/False                          |\n",
    "| datetime64    | -            | Valores de data e hora                                |\n",
    "| timedelta[ns] | -            | Diferença entre 2 dados de tempo                      |\n",
    "| category      | -            | Lista finita de dados textuais                        |"
   ]
  },
  {
   "cell_type": "code",
   "execution_count": null,
   "metadata": {
    "colab": {
     "base_uri": "https://urldefense.com/v3/__https://localhost:8080/__;!!PnTax73cffqfJow!h-X7YnwLlIgjtx7V0d_9LNBU3IVlkAsOajdKyRJBNNSYFlDd0Hw1Mck94FQhhE0P$ ",
     "height": 238
    },
    "colab_type": "code",
    "hideCode": false,
    "hidePrompt": false,
    "id": "U1tDSZ9v5fvb",
    "outputId": "7d2f0d4d-a6b3-4d9d-f127-3415c3115a2f"
   },
   "outputs": [],
   "source": [
    "titanic.dtypes"
   ]
  },
  {
   "cell_type": "markdown",
   "metadata": {
    "colab_type": "text",
    "hideCode": false,
    "hidePrompt": false,
    "id": "mSndl6Zz5fvd"
   },
   "source": [
    "**E se quisermos só as colunas de um certo tipo?**"
   ]
  },
  {
   "cell_type": "code",
   "execution_count": null,
   "metadata": {
    "colab": {
     "base_uri": "https://urldefense.com/v3/__https://localhost:8080/__;!!PnTax73cffqfJow!h-X7YnwLlIgjtx7V0d_9LNBU3IVlkAsOajdKyRJBNNSYFlDd0Hw1Mck94FQhhE0P$ ",
     "height": 238
    },
    "colab_type": "code",
    "id": "VvcwTagh5fvd",
    "outputId": "bc0838a0-b6f4-4be0-d5b2-0dfb73a512b7"
   },
   "outputs": [],
   "source": [
    "titanic.dtypes == \"int64\""
   ]
  },
  {
   "cell_type": "markdown",
   "metadata": {
    "colab_type": "text",
    "id": "rinQjZtuEO4c"
   },
   "source": [
    "Ele funciona como um operador lógico de `if`, ele vai em cada coluna e pergunta: _\"Você é um int64?\"_ a coluna vai responder se sim (`True`) ou não (`False`). \n",
    "\n",
    "A resposta desse filtro lógico é uma `Serie`."
   ]
  },
  {
   "cell_type": "code",
   "execution_count": null,
   "metadata": {
    "colab": {
     "base_uri": "https://urldefense.com/v3/__https://localhost:8080/__;!!PnTax73cffqfJow!h-X7YnwLlIgjtx7V0d_9LNBU3IVlkAsOajdKyRJBNNSYFlDd0Hw1Mck94FQhhE0P$ ",
     "height": 34
    },
    "colab_type": "code",
    "id": "_eFS4wkG5fvg",
    "outputId": "cbceb0cc-0a6a-4306-f7cb-78c2958b898d"
   },
   "outputs": [],
   "source": [
    "filtro_tipo_numerico = (titanic.dtypes == \"int64\")\n",
    "\n",
    "type(filtro_tipo_numerico)"
   ]
  },
  {
   "cell_type": "markdown",
   "metadata": {
    "colab_type": "text",
    "id": "6P4D0gMNFGuA"
   },
   "source": [
    "Não é necessário criar uma variável com o output desse filtro usando parenteses `()` mas dessa forma fica mais legível para com se confundir a igualdade `==` com a atribuição `=`.\n",
    "\n",
    "**Vamos ao proposto, como filtramos só listas numéricas?**"
   ]
  },
  {
   "cell_type": "code",
   "execution_count": null,
   "metadata": {
    "colab": {
     "base_uri": "https://urldefense.com/v3/__https://localhost:8080/__;!!PnTax73cffqfJow!h-X7YnwLlIgjtx7V0d_9LNBU3IVlkAsOajdKyRJBNNSYFlDd0Hw1Mck94FQhhE0P$ ",
     "height": 204
    },
    "colab_type": "code",
    "id": "_1Ynqh1E5fvp",
    "outputId": "ebc48382-731f-4923-c88e-2301052ded2e"
   },
   "outputs": [],
   "source": [
    "titanic.select_dtypes(include=[\"int64\"]).head()"
   ]
  },
  {
   "cell_type": "markdown",
   "metadata": {
    "colab_type": "text",
    "hideCode": false,
    "hidePrompt": false,
    "id": "3S5Jn1eE5fv0"
   },
   "source": [
    "### 4 - Informações estatísticas do DataFrame\n",
    "\n",
    "| Informação Estatística | Categórico | Numérico | Object | Descrição                                           |\n",
    "|------------------------|------------|----------|--------|-----------------------------------------------------|\n",
    "| count                  | Sim        | Sim      | Sim    | Contagem que valores totais                         |\n",
    "| unique                 | Sim        | Não      | Sim    | Contagem de elementos únicos                        |\n",
    "| top                    | Sim        | Não      | SIm    | Valor que mais aparece                              |\n",
    "| freq                   | Sim        | Não      | Sim    | Quantidade de vezes que valor mais aparece          |\n",
    "| mean                   | Não        | Sim      | Não    | Média dos números                                   |\n",
    "| std                    | Não        | Sim      | Não    | Desvio padrão de todos os números                   |\n",
    "| min                    | Não        | Sim      | Não    | Valor mínimo dos números                            |\n",
    "| 25%                    | Não        | Sim      | Não    | Valor que representa o primeiro quartil dos números |\n",
    "| 50%                    | Não        | Sim      | Não    | Mediana dos números                                 |\n",
    "| 75%                    | Não        | Sim      | Não    | Valor que representa o terceiro quartil dos números |\n",
    "| max                    | Não        | Sim      | Não    | Valor máximo dos números                            |\n",
    "\n",
    "**Estatísticas dos dados numéricos**"
   ]
  },
  {
   "cell_type": "code",
   "execution_count": null,
   "metadata": {
    "colab": {
     "base_uri": "https://urldefense.com/v3/__https://localhost:8080/__;!!PnTax73cffqfJow!h-X7YnwLlIgjtx7V0d_9LNBU3IVlkAsOajdKyRJBNNSYFlDd0Hw1Mck94FQhhE0P$ ",
     "height": 297
    },
    "colab_type": "code",
    "hideCode": false,
    "hidePrompt": false,
    "id": "hAuCiNXq5fv1",
    "outputId": "118f2998-a280-4430-ba6d-84626a044ef8"
   },
   "outputs": [],
   "source": [
    "titanic.describe()"
   ]
  },
  {
   "cell_type": "markdown",
   "metadata": {
    "colab_type": "text",
    "id": "xFSR2FH2IsUZ"
   },
   "source": [
    "**Se quisermos acessar as estatísticas de somente uma coluna base selecionar ela**"
   ]
  },
  {
   "cell_type": "code",
   "execution_count": null,
   "metadata": {
    "colab": {
     "base_uri": "https://urldefense.com/v3/__https://localhost:8080/__;!!PnTax73cffqfJow!h-X7YnwLlIgjtx7V0d_9LNBU3IVlkAsOajdKyRJBNNSYFlDd0Hw1Mck94FQhhE0P$ ",
     "height": 170
    },
    "colab_type": "code",
    "hideCode": false,
    "hidePrompt": false,
    "id": "8yvv1qN95fv4",
    "outputId": "1de563b0-6ab1-410f-add3-d946866fca74",
    "scrolled": false
   },
   "outputs": [],
   "source": [
    "titanic[\"Age\"].describe()"
   ]
  },
  {
   "cell_type": "markdown",
   "metadata": {
    "colab_type": "text",
    "id": "73996vU25fv7"
   },
   "source": [
    "**Nós não temos estatísticas somente dos dados numéricos mas os outros tipo de dados tem que se olhados com ainda mais cuidado**"
   ]
  },
  {
   "cell_type": "code",
   "execution_count": null,
   "metadata": {
    "colab": {
     "base_uri": "https://urldefense.com/v3/__https://localhost:8080/__;!!PnTax73cffqfJow!h-X7YnwLlIgjtx7V0d_9LNBU3IVlkAsOajdKyRJBNNSYFlDd0Hw1Mck94FQhhE0P$ ",
     "height": 390
    },
    "colab_type": "code",
    "id": "065Qwpmo5fv7",
    "outputId": "8ce21038-49c2-4dbc-c0a0-04fc22a490ec"
   },
   "outputs": [],
   "source": [
    "titanic.describe(include=\"all\")"
   ]
  },
  {
   "cell_type": "code",
   "execution_count": null,
   "metadata": {
    "colab": {
     "base_uri": "https://urldefense.com/v3/__https://localhost:8080/__;!!PnTax73cffqfJow!h-X7YnwLlIgjtx7V0d_9LNBU3IVlkAsOajdKyRJBNNSYFlDd0Hw1Mck94FQhhE0P$ ",
     "height": 102
    },
    "colab_type": "code",
    "id": "4qWMC-zSJc71",
    "outputId": "73f4da30-9545-4a3a-8e75-9992787eb086"
   },
   "outputs": [],
   "source": [
    "titanic['Embarked'].describe()"
   ]
  },
  {
   "cell_type": "markdown",
   "metadata": {
    "colab_type": "text",
    "id": "ti-oRRF0JqYU"
   },
   "source": [
    "No `Embarked` o describe trás bastante valor, ele diz que 644 dos 889 passageiros embarcaram em `S` (Southampton).\n",
    "\n",
    "Porém se olhar a coluna `Name` ela não funciona bem."
   ]
  },
  {
   "cell_type": "code",
   "execution_count": null,
   "metadata": {
    "colab": {
     "base_uri": "https://urldefense.com/v3/__https://localhost:8080/__;!!PnTax73cffqfJow!h-X7YnwLlIgjtx7V0d_9LNBU3IVlkAsOajdKyRJBNNSYFlDd0Hw1Mck94FQhhE0P$ ",
     "height": 102
    },
    "colab_type": "code",
    "id": "2d2q04YyKs4L",
    "outputId": "b5523eaf-ef06-4114-db8b-ec779b25e19d"
   },
   "outputs": [],
   "source": [
    "titanic['Name'].describe()"
   ]
  },
  {
   "cell_type": "markdown",
   "metadata": {
    "colab_type": "text",
    "hideCode": false,
    "hidePrompt": false,
    "id": "yzl0RKSx5fv_"
   },
   "source": [
    "### **Desafio:** Retorne a descrição apenas das colunas `Age` e `Pclass`.\n",
    "\n",
    "![alt text](https://urldefense.com/v3/__https://static.vix.com/pt/sites/default/files/styles/large/public/a/atrasada-relogio-pulso-1116-1400x800.jpg?itok=qv3gUH6U)*5Cn__;JQ!!PnTax73cffqfJow!h-X7YnwLlIgjtx7V0d_9LNBU3IVlkAsOajdKyRJBNNSYFlDd0Hw1Mck94NLpZbt_$ "
   ]
  },
  {
   "cell_type": "code",
   "execution_count": null,
   "metadata": {
    "colab": {},
    "colab_type": "code",
    "hideCode": false,
    "hidePrompt": false,
    "id": "exFQQAmu5fwA"
   },
   "outputs": [],
   "source": [
    "#solução"
   ]
  },
  {
   "cell_type": "markdown",
   "metadata": {
    "colab_type": "text",
    "hideCode": false,
    "hidePrompt": false,
    "id": "cvnTPPpS5fwD"
   },
   "source": [
    "**Nós conseguimos acessar aos dados do describe diretamente**"
   ]
  },
  {
   "cell_type": "code",
   "execution_count": null,
   "metadata": {
    "colab": {
     "base_uri": "https://urldefense.com/v3/__https://localhost:8080/__;!!PnTax73cffqfJow!h-X7YnwLlIgjtx7V0d_9LNBU3IVlkAsOajdKyRJBNNSYFlDd0Hw1Mck94FQhhE0P$ ",
     "height": 34
    },
    "colab_type": "code",
    "hideCode": false,
    "hidePrompt": false,
    "id": "qJGWO-n65fwE",
    "outputId": "c69fdac9-edc7-40b2-d790-8d04f960eedd"
   },
   "outputs": [],
   "source": [
    "titanic[\"Age\"].mean()"
   ]
  },
  {
   "cell_type": "code",
   "execution_count": null,
   "metadata": {
    "colab": {
     "base_uri": "https://urldefense.com/v3/__https://localhost:8080/__;!!PnTax73cffqfJow!h-X7YnwLlIgjtx7V0d_9LNBU3IVlkAsOajdKyRJBNNSYFlDd0Hw1Mck94FQhhE0P$ ",
     "height": 34
    },
    "colab_type": "code",
    "hideCode": false,
    "hidePrompt": false,
    "id": "DasWF30o5fwG",
    "outputId": "8c36e49d-13da-4574-e1fe-3c11ede1c754",
    "scrolled": true
   },
   "outputs": [],
   "source": [
    "titanic[\"Age\"].std()"
   ]
  },
  {
   "cell_type": "code",
   "execution_count": null,
   "metadata": {
    "colab": {},
    "colab_type": "code",
    "id": "6OnbprcQLNTG"
   },
   "outputs": [],
   "source": []
  }
 ],
 "metadata": {
  "colab": {
   "collapsed_sections": [
    "siUMGV7l5fvE"
   ],
   "name": "2 - Pandas - Introdução a análise de dados",
   "provenance": []
  },
  "hide_code_all_hidden": false,
  "kernelspec": {
   "display_name": "Python 3",
   "language": "python",
   "name": "python3"
  },
  "language_info": {
   "codemirror_mode": {
    "name": "ipython",
    "version": 3
   },
   "file_extension": ".py",
   "mimetype": "text/x-python",
   "name": "python",
   "nbconvert_exporter": "python",
   "pygments_lexer": "ipython3",
   "version": "3.8.2"
  }
 },
 "nbformat": 4,
 "nbformat_minor": 1
}
