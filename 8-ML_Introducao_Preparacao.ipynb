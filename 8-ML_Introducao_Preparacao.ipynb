{
 "cells": [
  {
   "cell_type": "markdown",
   "metadata": {},
   "source": [
    "# Machine Learning\n",
    "\n",
    "![alt text](https://databootcamp.nyc3.digitaloceanspaces.com/img/machineLearning.png)\n",
    "### \"Campo de estudo que dá aos computadores a habilidade de aprender sem serem explicitamente programados\" - Arthur Samuel\n",
    "\n",
    "## As categorias de ML\n",
    "### Machine Learning não é uma técnica e sim um conjunto de técnicas\n",
    "\n",
    "![alt text](https://databootcamp.nyc3.digitaloceanspaces.com/img/f3053485f518dd42bf0fc63bb5b23215.png)\n",
    "\n",
    "### Os principais tipos de ML\n",
    "\n",
    "- **Aprendizado supervisionado:** São apresentadas ao computador exemplos de entradas e saídas desejadas, fornecidas por um \"professor\". O objetivo é aprender uma regra geral que mapeia as entradas para as saídas.\n",
    "- **Aprendizado não supervisionado:** Nenhum tipo de etiqueta é dado ao algoritmo de aprendizado, deixando-o sozinho para encontrar estrutura nas entradas fornecidas. O aprendizado não supervisionado pode ser um objetivo em si mesmo (descobrir novos padrões nos dados) ou um meio para atingir um fim.\n",
    "- **Aprendizado por reforço:** Um programa de computador interage com um ambiente dinâmico, em que o programa deve desempenhar determinado objetivo (por exemplo, dirigir um veículo). É fornecido, ao programa, feedback quanto a premiações e punições, na medida em que é navegado o espaço do problema. Outro exemplo de aprendizado por reforço é aprender a jogar um determinado jogo apenas jogando contra um oponente."
   ]
  },
  {
   "cell_type": "markdown",
   "metadata": {},
   "source": [
    "## O que são Features?\n",
    "\n",
    "Features ou, em português, características, são fatores utilizados para definir um atributo que tenha mais importância e significado. Nos caso dos DataFrames as colunas são as Features/Características, nem todas as colunas são úteis para melhorar o nosso modelo e saber selecionar e manipular as Features podem ajudar muito o seu modelo. Na criação de modelos de aprendizado supervisionado eles são normalmente chamados de `X`.\n",
    "\n",
    "\n",
    "Saber manipular uma Features se tornou um ramo da ciência de dados, que chamamos de **Engenharia de Features**, ela consiste em elencar as características mais importantes dos dados e, dependendo do modelo utilizado, normalizar os valores contidos na base de dados. Caso queira mais conhecer sobre o tema recomendamos esse [vídeo do Gabriel Moreira](https://www.infoq.com/br/presentations/extraindo-o-potencial-maximo-dos-dados-para-modelos-preditivos/).\n",
    "\n",
    "\n",
    "![alt text](https://miro.medium.com/max/1400/1*zO3ZKcgPFvw0Qvnf6Dwtow.png)\n",
    "\n",
    "\n",
    "## Qual o objetivo do Titanic? Descobrir quem sobreviveu\n",
    "\n",
    "Para isso vamos desenvolver tratar os nossos dados para ter a melhor predição possível. Nos modelos de aprendizado supervisionado normalmente chamamos o objetivo de `Y`, `label` ou `target`.\n",
    "\n",
    "![](https://mlwave.com/beheer/wp-content/uploads/2014/02/titanic.jpg)"
   ]
  },
  {
   "cell_type": "markdown",
   "metadata": {},
   "source": [
    "## Seleção e padronização de dados\n",
    "\n",
    "Antes de começamos a ver modelos de Machine Learning, é uma boa prática selecionarmos e padronizarmos os dados que serão usados nos modelos. A maioria desses modelos de Machine Learning utiliza features numéricas para aplicarem funções matemáticas e fazerem comparações entre os dados.\n",
    "\n",
    "Como já fizemos toda preparação dos dados vamos observar os dados e verificar o que ainda é necessário para deixar os dados preparados."
   ]
  },
  {
   "cell_type": "code",
   "execution_count": null,
   "metadata": {
    "scrolled": false
   },
   "outputs": [],
   "source": [
    "import pandas\n",
    "titanic = pandas.read_csv(\"https://databootcamp.nyc3.digitaloceanspaces.com/titanic_3.csv\")\n",
    "titanic.head()"
   ]
  },
  {
   "cell_type": "markdown",
   "metadata": {},
   "source": [
    "Vamos ver quais dados ainda estão faltantes"
   ]
  },
  {
   "cell_type": "code",
   "execution_count": null,
   "metadata": {},
   "outputs": [],
   "source": [
    "titanic.isnull().sum()"
   ]
  },
  {
   "cell_type": "markdown",
   "metadata": {},
   "source": [
    "## <font color='blue'>Somente olhando os dados, selecione quais seriam boas features para manter independente do que você queira prever?</font>\n",
    "![alt text](https://databootcamp.nyc3.digitaloceanspaces.com/img/atrasada-relogio-pulso-1116-1400x800.jpg)"
   ]
  },
  {
   "cell_type": "code",
   "execution_count": null,
   "metadata": {
    "scrolled": true
   },
   "outputs": [],
   "source": [
    "#solução\n",
    "titanic_features = titanic\n",
    "titanic_features.head()"
   ]
  },
  {
   "cell_type": "markdown",
   "metadata": {},
   "source": [
    "Vimos que temos algumas features não numéricas e isso pode ser um problema para vários modelos de Machine Learning. Precisamos saber converter essas Features categóricas em numéricas"
   ]
  },
  {
   "cell_type": "markdown",
   "metadata": {},
   "source": [
    "### One Hot Encoding\n",
    "\n",
    "Com essa técnica transformamos tudo que é categórico em numérico, permitindo que os modelos consigam entender cada valor categórico como uma nova feature.\n",
    "\n",
    "![encoding](https://databootcamp.nyc3.digitaloceanspaces.com/img/encoding.png)\n",
    "\n",
    "Existem várias técnicas de encoding de features, mas essa é mais comum e já fornecida pelo Pandas. Vamos ver como é feito isso para a coluna **Sex**"
   ]
  },
  {
   "cell_type": "code",
   "execution_count": null,
   "metadata": {},
   "outputs": [],
   "source": [
    "gender = pandas.get_dummies(titanic_features['Sex'])\n",
    "gender.head()"
   ]
  },
  {
   "cell_type": "markdown",
   "metadata": {},
   "source": [
    "No caso como é uma variável binária, podemos ignorar a segunda feature"
   ]
  },
  {
   "cell_type": "code",
   "execution_count": null,
   "metadata": {},
   "outputs": [],
   "source": [
    "gender = pandas.get_dummies(titanic_features['Sex'], drop_first=True)\n",
    "gender.head()"
   ]
  },
  {
   "cell_type": "markdown",
   "metadata": {},
   "source": [
    "Agora devemos juntar esse resultado nas features e remover o antigo"
   ]
  },
  {
   "cell_type": "code",
   "execution_count": null,
   "metadata": {},
   "outputs": [],
   "source": [
    "titanic_features_no_sex = pandas.concat([titanic_features, gender], axis=1).drop(\"Sex\", axis=1)\n",
    "titanic_features_no_sex.head()"
   ]
  },
  {
   "cell_type": "markdown",
   "metadata": {},
   "source": [
    "## <font color='blue'>Façam para as outras features categóricas</font>\n",
    "![alt text](https://databootcamp.nyc3.digitaloceanspaces.com/img/atrasada-relogio-pulso-1116-1400x800.jpg)"
   ]
  },
  {
   "cell_type": "code",
   "execution_count": null,
   "metadata": {},
   "outputs": [],
   "source": [
    "#solução\n",
    "import numpy\n",
    "titanic_not_categorical = titanic_features.select_dtypes(numpy.number)\n",
    "titanic_not_categorical.head()"
   ]
  },
  {
   "cell_type": "markdown",
   "metadata": {},
   "source": [
    "Pronto! Agora temos todas as nossas features numéricas, mas esses números precisam ser normalizados para que alguns algoritmos funcionem bem no quando formos usar o **Scikit-Learn (Sklearn)**"
   ]
  },
  {
   "cell_type": "markdown",
   "metadata": {},
   "source": [
    "### Scaler\n",
    "\n",
    "Os *Scalers* padronizam ou normalizam as features numéricas para que os algoritmos entendam que as features possuem unidades comparativas iguais. Imaginem se um algoritmo queira entender que a diferença de idade entre 80 e 22 anos tenha mais relevância que o Pclass entre 3 e 1. Para evitar esse tipo de problema, podemos usar o Standard Scaler.\n",
    "\n",
    "#### Não vamos confundir Padronizacão com Normalização!\n",
    "\n",
    "![standard_normalize](https://databootcamp.nyc3.digitaloceanspaces.com/img/standard_vs_normalize.jpg)\n",
    "Por conta dessa conta o resultado da normalização fica muito mais juntinho e difícil de interpretar do que da padronização.\n",
    "![standard_normalize_example](https://databootcamp.nyc3.digitaloceanspaces.com/img/sdtvsnorm.png)"
   ]
  },
  {
   "cell_type": "code",
   "execution_count": null,
   "metadata": {},
   "outputs": [],
   "source": [
    "from sklearn.preprocessing import StandardScaler"
   ]
  },
  {
   "cell_type": "markdown",
   "metadata": {},
   "source": [
    "As funções do **Sklearn** retornam arrays do **Numpy**"
   ]
  },
  {
   "cell_type": "code",
   "execution_count": null,
   "metadata": {},
   "outputs": [],
   "source": [
    "scaler = StandardScaler()\n",
    "scaled_data = scaler.fit_transform(titanic_not_categorical)\n",
    "scaled_data"
   ]
  },
  {
   "cell_type": "code",
   "execution_count": null,
   "metadata": {},
   "outputs": [],
   "source": [
    "scaled_data.shape"
   ]
  },
  {
   "cell_type": "markdown",
   "metadata": {},
   "source": [
    "Como não conseguimos mais trabalhar com os dados como DataFrame vamos voltar a fazer isso quando estivermos utilizando Machine Learning com o Titanic!"
   ]
  },
  {
   "cell_type": "code",
   "execution_count": null,
   "metadata": {},
   "outputs": [],
   "source": []
  }
 ],
 "metadata": {
  "kernelspec": {
   "display_name": "Python 3",
   "language": "python",
   "name": "python3"
  },
  "language_info": {
   "codemirror_mode": {
    "name": "ipython",
    "version": 3
   },
   "file_extension": ".py",
   "mimetype": "text/x-python",
   "name": "python",
   "nbconvert_exporter": "python",
   "pygments_lexer": "ipython3",
   "version": "3.6.8"
  }
 },
 "nbformat": 4,
 "nbformat_minor": 4
}
