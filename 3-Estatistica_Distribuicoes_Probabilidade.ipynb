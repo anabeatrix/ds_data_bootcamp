{
 "cells": [
  {
   "cell_type": "markdown",
   "metadata": {},
   "source": [
    "# Distribuições\n",
    "\n",
    "Os conjuntos de dados podem estar apresentados de várias formas. Isso são as distribuições dos dados."
   ]
  },
  {
   "cell_type": "markdown",
   "metadata": {},
   "source": [
    "## Distribuição Binomial\n",
    "\n",
    "Quando existem apenas dois resultados, mutualmente exclusivos e as n tentativas são *independentes*. Como no caso do *Survived* do Titanic."
   ]
  },
  {
   "cell_type": "code",
   "execution_count": null,
   "metadata": {},
   "outputs": [],
   "source": [
    "import pandas\n",
    "titanic = pandas.read_csv(\"https://databootcamp.nyc3.digitaloceanspaces.com/titanic_2.csv\")"
   ]
  },
  {
   "cell_type": "code",
   "execution_count": null,
   "metadata": {},
   "outputs": [],
   "source": [
    "titanic[\"Survived\"].value_counts().plot.bar()"
   ]
  },
  {
   "cell_type": "markdown",
   "metadata": {},
   "source": [
    "Conseguimos a mesma distribuição se pensarmos no problema de jogar uma moeda. Ou pode dar cara ou coroa"
   ]
  },
  {
   "cell_type": "markdown",
   "metadata": {},
   "source": [
    "### Em estatística tudo começa com PROBABILIDADE"
   ]
  },
  {
   "cell_type": "markdown",
   "metadata": {},
   "source": [
    "Probabilidade é o estudo das chances de obtenção de cada resultado de um experimento aleatório."
   ]
  },
  {
   "cell_type": "markdown",
   "metadata": {},
   "source": [
    "## É de conhecimento geral que se jorgarmos uma moeda 50x ela vai cair 25x cara!\n",
    "Como podemos provar isso?\n",
    "\n",
    "![coin](https://databootcamp.nyc3.digitaloceanspaces.com/img/bbbba6fffd901a174cbaa8fe34d093b0.gif)"
   ]
  },
  {
   "cell_type": "code",
   "execution_count": null,
   "metadata": {},
   "outputs": [],
   "source": [
    "import numpy"
   ]
  },
  {
   "cell_type": "code",
   "execution_count": null,
   "metadata": {},
   "outputs": [],
   "source": [
    "minimo_inclusivo = 0\n",
    "maximo_exclusivo = 2\n",
    "total_de_resultados = 50\n",
    "\n",
    "numpy.random.randint(minimo_inclusivo,\n",
    "                     maximo_exclusivo,\n",
    "                     total_de_resultados)\n",
    "#esse cara retorna uma lista de Eventos com 50 valores 0 (coroa) e 1 (cara)"
   ]
  },
  {
   "cell_type": "markdown",
   "metadata": {},
   "source": [
    "Um experimento aleatório pode ser repetido inúmeras vezes e nas mesmas condições e, mesmo assim, apresenta resultados diferentes. Cada um desses resultados possíveis é chamado de **ponto amostral**.\n",
    "\n",
    "Por ser uma distribuição binomial podemos calcular o número de jogadas com sucesso (1) apenas somando todos os valores."
   ]
  },
  {
   "cell_type": "code",
   "execution_count": null,
   "metadata": {},
   "outputs": [],
   "source": [
    "minimo_inclusivo = 0\n",
    "maximo_exclusivo = 2\n",
    "total_de_resultados = 50\n",
    "\n",
    "resultado = numpy.random.randint(minimo_inclusivo, maximo_exclusivo, total_de_resultados)\n",
    "sum(resultado)"
   ]
  },
  {
   "cell_type": "markdown",
   "metadata": {},
   "source": [
    "### Também podemos mostrar esse experimento de forma gráfica"
   ]
  },
  {
   "cell_type": "markdown",
   "metadata": {},
   "source": [
    "Mas para isso precisamos usar outra biblioteca do Python que o Pandas está sempre usando por baixo dos panos. O **Pyplot do Matplotlib**."
   ]
  },
  {
   "cell_type": "code",
   "execution_count": null,
   "metadata": {},
   "outputs": [],
   "source": [
    "caras = sum(resultado)\n",
    "coroas = total_de_resultados - caras\n",
    "\n",
    "from matplotlib import pyplot\n",
    "pyplot.bar(1, caras)\n",
    "pyplot.bar(0, coroas)"
   ]
  },
  {
   "cell_type": "markdown",
   "metadata": {},
   "source": [
    "### Isso que nós acabamos de fazer foi um experimento. Para diminuirmos a aleatoriedade devemos repetir esse experimento mais vezes\n",
    "\n",
    "Se a moeda é justa, temos a mesma chance de cair cara ou coroa. Ou seja, esperamos que o valor da soma acima seja próximo de 25. Mas, como vimos, nem sempre é 25. \n",
    "\n",
    "Aqui, sabemos que era pra ser algo em torno de 25 e fica fácil acreditar que as vezes em que não foi 25 são por causa da aleatoriedade (afinal, nós construímos o código pra ser assim). Mas e na vida real?\n",
    "\n",
    "Se fizemos o experimento várias vezes, aumentamos a certeza da nossa afirmação."
   ]
  },
  {
   "cell_type": "markdown",
   "metadata": {},
   "source": [
    "#### Primeiro vamos separar o código do sorteio em uma função"
   ]
  },
  {
   "cell_type": "code",
   "execution_count": null,
   "metadata": {},
   "outputs": [],
   "source": [
    "numpy.random.randint?"
   ]
  },
  {
   "cell_type": "code",
   "execution_count": null,
   "metadata": {},
   "outputs": [],
   "source": [
    "def contador_de_caras():\n",
    "    total_de_resultados = 50\n",
    "    resultado_das_jogadas = numpy.random.randint(0, 2, total_de_resultados)\n",
    "    somador = sum(resultado_das_jogadas)\n",
    "    return somador"
   ]
  },
  {
   "cell_type": "code",
   "execution_count": null,
   "metadata": {},
   "outputs": [],
   "source": [
    "contador_de_caras()"
   ]
  },
  {
   "cell_type": "markdown",
   "metadata": {},
   "source": [
    "#### Agora vamos criar uma função que repita esse experimento e coloque o resultado em uma lista"
   ]
  },
  {
   "cell_type": "code",
   "execution_count": null,
   "metadata": {},
   "outputs": [],
   "source": [
    "def simulador_jogadas_de_moeda(qtd_de_experimentos):\n",
    "\n",
    "    qtd_caras = []\n",
    "    #esse for faz ele repetir o codigo dele o numero de vezes que passamos\n",
    "    for repeticao in range(qtd_de_experimentos): \n",
    "        jogadas = contador_de_caras()\n",
    "        #pega o resultado da soma e inclui na lista\n",
    "        qtd_caras.append(jogadas) \n",
    "    \n",
    "    return qtd_caras"
   ]
  },
  {
   "cell_type": "code",
   "execution_count": null,
   "metadata": {},
   "outputs": [],
   "source": [
    "simulador = simulador_jogadas_de_moeda(10)"
   ]
  },
  {
   "cell_type": "code",
   "execution_count": null,
   "metadata": {},
   "outputs": [],
   "source": [
    "simulador"
   ]
  },
  {
   "cell_type": "markdown",
   "metadata": {},
   "source": [
    "### Uma forma fácil de ver esse resultado é olhando os resultados de forma agrupada"
   ]
  },
  {
   "cell_type": "code",
   "execution_count": null,
   "metadata": {},
   "outputs": [],
   "source": [
    "pyplot.hist(simulador, bins=total_de_resultados);"
   ]
  },
  {
   "cell_type": "markdown",
   "metadata": {},
   "source": [
    "## <font color='blue'>Como podemos aumentar a certeza de que cai mais 25?</font>\n",
    "![alt text](https://databootcamp.nyc3.digitaloceanspaces.com/img/atrasada-relogio-pulso-1116-1400x800.jpg)"
   ]
  },
  {
   "cell_type": "code",
   "execution_count": null,
   "metadata": {},
   "outputs": [],
   "source": [
    "#solução"
   ]
  },
  {
   "cell_type": "markdown",
   "metadata": {},
   "source": [
    "### Podemos usar o KDE (Kernel Density Estimate) para validar se tende a cair no 25\n",
    "\n",
    "Esse gráfico calcula uma estimativa da sua distribuição. E parece uma **Normal**."
   ]
  },
  {
   "cell_type": "code",
   "execution_count": null,
   "metadata": {},
   "outputs": [],
   "source": [
    "pandas.Series(simulador).plot.kde()"
   ]
  },
  {
   "cell_type": "markdown",
   "metadata": {},
   "source": [
    "## Distribuição Normal\n",
    "\n",
    "A distribuição normal tem como caracteristica o formato de sino e se imaginarmos uma reta no meio do gráfico (mediana) os dados estão igualmente distribuídos (simetrico ao centro).\n",
    "\n",
    "Nós vemos amostras nessa distribuíção em diversos casos: altura das pessoas, aferição de pressão sanguínea, salarios, resultados de testes de QI, etc..\n",
    "\n",
    "![alt text](https://databootcamp.nyc3.digitaloceanspaces.com/img/normal-distrubution-large.svg)"
   ]
  },
  {
   "cell_type": "markdown",
   "metadata": {},
   "source": [
    "### Distribuição normal em vídeo (Modelo de probabilidade do Museum of Science de Boston)"
   ]
  },
  {
   "cell_type": "code",
   "execution_count": null,
   "metadata": {
    "scrolled": true
   },
   "outputs": [],
   "source": [
    "from IPython.display import IFrame\n",
    "\n",
    "# Youtube\n",
    "IFrame(\"https://www.youtube.com/embed/wUgQtXEodf0?rel=0&amp;controls=0&amp;showinfo=0\", width=\"560\", height=\"315\", frameborder=\"0\", allowfullscreen=True)"
   ]
  },
  {
   "cell_type": "markdown",
   "metadata": {},
   "source": [
    "## Qual a probabilidade de cair menos de 20x cara no simulador?\n",
    "#### Primeiro temos que contar quantas vezes caiu menos de 20"
   ]
  },
  {
   "cell_type": "markdown",
   "metadata": {},
   "source": [
    "Usamos um número grande de jogadas para conseguir uma probabilidade prática próxima da probabilidade teórica"
   ]
  },
  {
   "cell_type": "code",
   "execution_count": null,
   "metadata": {},
   "outputs": [],
   "source": [
    "total_jogadas = 9000\n",
    "simulador = simulador_jogadas_de_moeda(total_jogadas)"
   ]
  },
  {
   "cell_type": "code",
   "execution_count": null,
   "metadata": {},
   "outputs": [],
   "source": [
    "menor_20 = 0\n",
    "for contador_cara in simulador:\n",
    "    if (contador_cara < 20):\n",
    "        menor_20 = menor_20 + 1 # == menor_20 += 1\n",
    "menor_20"
   ]
  },
  {
   "cell_type": "markdown",
   "metadata": {},
   "source": [
    "Vamos verificar em porcentagem qual a probabilidade"
   ]
  },
  {
   "cell_type": "code",
   "execution_count": null,
   "metadata": {},
   "outputs": [],
   "source": [
    "regra_de_tres = (100 * menor_20/total_jogadas)\n",
    "print(f\"A probabilidade de cair um número menor que 20 é de {regra_de_tres}%\")"
   ]
  },
  {
   "cell_type": "markdown",
   "metadata": {},
   "source": [
    "### Lembra das métricas? Elas são bem descritas nas distribuições normais"
   ]
  },
  {
   "cell_type": "markdown",
   "metadata": {},
   "source": [
    "**Quanto menor é a variância, mais próximos os valores estão da média.**\n",
    "\n",
    "![variancia](https://databootcamp.nyc3.digitaloceanspaces.com/img/bell_curve_normal-curve.gif)\n",
    "![desvpad](https://databootcamp.nyc3.digitaloceanspaces.com/img/standard-deviation-examples1.png)"
   ]
  },
  {
   "cell_type": "markdown",
   "metadata": {},
   "source": [
    "Ou seja, quanto mais distantes da média são os valores em uma normal, menor a chance deles acontecerem."
   ]
  },
  {
   "cell_type": "markdown",
   "metadata": {},
   "source": [
    "Lembram que falamos que um boxplot é como um histograma \"visto de cima\"? Conseguem imaginar como seria o boxplot dessa distribução?"
   ]
  },
  {
   "cell_type": "markdown",
   "metadata": {},
   "source": [
    "## Com essas informações (Média, Mediana e Moda) vemos a Assimetria de uma Normal"
   ]
  },
  {
   "cell_type": "markdown",
   "metadata": {},
   "source": [
    "![alt text](https://databootcamp.nyc3.digitaloceanspaces.com/img/mode3.png)"
   ]
  },
  {
   "cell_type": "markdown",
   "metadata": {},
   "source": [
    "Se **Média < Mediana < Moda**, tem a calda tendendo a esquerda (negativa)\n",
    "\n",
    "Se **Média == Mediana == Moda**, então a distribuição é aproximadamente simétrica (ou também conhecida como normal)\n",
    "\n",
    "Se **Média > Mediana > Moda**, tem a calda tendendo a direita (positiva)"
   ]
  },
  {
   "cell_type": "markdown",
   "metadata": {},
   "source": [
    "O boxplot nos ajuda a ter uma ideia visual dessa comparação, antes mesmo de testarmos a simetria da distribuição."
   ]
  },
  {
   "cell_type": "markdown",
   "metadata": {},
   "source": [
    "## <font color='blue'>Faça uma função que retorne a assimetria de qualquer coluna (Serie)</font>\n",
    "![alt text](https://databootcamp.nyc3.digitaloceanspaces.com/img/atrasada-relogio-pulso-1116-1400x800.jpg)"
   ]
  },
  {
   "cell_type": "code",
   "execution_count": null,
   "metadata": {},
   "outputs": [],
   "source": [
    "#solução\n",
    "def assimetria(serie):\n",
    "    pass\n",
    "assimetria(titanic.Age)"
   ]
  },
  {
   "cell_type": "markdown",
   "metadata": {},
   "source": [
    "Podemos validar o resultado olhando os dados da coluna no Titanic"
   ]
  },
  {
   "cell_type": "code",
   "execution_count": null,
   "metadata": {},
   "outputs": [],
   "source": [
    "moda = titanic.Age.mode()\n",
    "media = titanic.Age.mean()\n",
    "mediana = titanic.Age.median()\n",
    "\n",
    "print(\"moda:\", moda[0]) \n",
    "print(\"mediana:\", mediana)\n",
    "print(\"media:\", media)"
   ]
  },
  {
   "cell_type": "markdown",
   "metadata": {},
   "source": [
    "### Como verificar se uma distribuição é normal?\n",
    "\n",
    "Esta função testa a hipótese nula de que uma amostra vem\n",
    "de uma distribuição normal. É baseado em Teste de D'Agostino e Pearson \n",
    "que combina inclinação e curtose a produzir um teste global de normalidade."
   ]
  },
  {
   "cell_type": "markdown",
   "metadata": {},
   "source": [
    "Para fazer a verificação podemos usar o método do próprio pacote **Scipy**."
   ]
  },
  {
   "cell_type": "code",
   "execution_count": null,
   "metadata": {},
   "outputs": [],
   "source": [
    "from scipy import stats\n",
    "stats.normaltest?"
   ]
  },
  {
   "cell_type": "markdown",
   "metadata": {},
   "source": [
    "Essa função é um **teste estatístico** que nos retorna um **pvalue** que vamos ver em breve o que significa."
   ]
  },
  {
   "cell_type": "code",
   "execution_count": null,
   "metadata": {},
   "outputs": [],
   "source": [
    "amostra = [1, 1, 1, 1, 1, 1, 2, 2, 2, 2, 2, 2, 2, 2, 2, 2, 2, 2, 2, 2, 3, 3, 3, 3, 3, 3]\n",
    "z, pvalue = stats.normaltest(amostra)\n",
    "if(pvalue >= 0.05):\n",
    "    print(\"Distribuição é Normal\", pvalue)\n",
    "else:\n",
    "    print(\"Não é uma distribuição normal\", pvalue)"
   ]
  },
  {
   "cell_type": "markdown",
   "metadata": {},
   "source": [
    "## <font color='blue'>Faça uma função que verifique se uma Série é uma normal</font>\n",
    "![alt text](https://databootcamp.nyc3.digitaloceanspaces.com/img/atrasada-relogio-pulso-1116-1400x800.jpg)"
   ]
  },
  {
   "cell_type": "code",
   "execution_count": null,
   "metadata": {},
   "outputs": [],
   "source": [
    "#solução\n",
    "def verificador_de_normal(series):\n",
    "    pass"
   ]
  },
  {
   "cell_type": "code",
   "execution_count": null,
   "metadata": {},
   "outputs": [],
   "source": [
    "verificador_de_normal(titanic.Age.dropna())"
   ]
  },
  {
   "cell_type": "markdown",
   "metadata": {},
   "source": [
    "### Mas eu queria tanto que ele fosse uma normal :(\n",
    "\n",
    "![alt text](https://databootcamp.nyc3.digitaloceanspaces.com/img/paranormal.jpg)\n",
    "\n",
    "## Temos uma mágica! Teorema do Limite Central\n",
    "Esse teorema prova que um conjunto das médias de uma amostra independente que veio de uma população qualquer segue a distribuição normal (mesmo que a população que originou a amostra não seja normal!)\n",
    "\n",
    "![abracadabra](https://media.giphy.com/media/l2YWs1NexTst9YmFG/giphy.gif)"
   ]
  },
  {
   "cell_type": "markdown",
   "metadata": {},
   "source": [
    "### O pandas nos entrega uma função de amostra (sample) nela podemos passar a fração da distribuição"
   ]
  },
  {
   "cell_type": "code",
   "execution_count": null,
   "metadata": {},
   "outputs": [],
   "source": [
    "titanic.Age.sample(frac=0.1)"
   ]
  },
  {
   "cell_type": "markdown",
   "metadata": {},
   "source": [
    "Olhem como **Age** é diferente de um conjunto das médias das amostras "
   ]
  },
  {
   "cell_type": "code",
   "execution_count": null,
   "metadata": {},
   "outputs": [],
   "source": [
    "titanic.Age.plot.kde()"
   ]
  },
  {
   "cell_type": "code",
   "execution_count": null,
   "metadata": {},
   "outputs": [],
   "source": [
    "medias = []\n",
    "for i in range(10):\n",
    "    media = titanic.Age.sample(frac=0.1).mean()\n",
    "    medias.append(media)\n",
    "pandas.Series(medias).plot.kde()"
   ]
  },
  {
   "cell_type": "markdown",
   "metadata": {},
   "source": [
    "## <font color='blue'>Agora que vocês sabem a fórmula, que tal tentar fazer com que a coluna Age vire normal.</font>\n",
    "\n",
    "### Dica: Um conjunto das médias de uma amostra do seu dado original gera uma distribuição normal\n",
    "![alt text](https://databootcamp.nyc3.digitaloceanspaces.com/img/atrasada-relogio-pulso-1116-1400x800.jpg)"
   ]
  },
  {
   "cell_type": "code",
   "execution_count": null,
   "metadata": {},
   "outputs": [],
   "source": [
    "#solução\n",
    "media_das_amostras = [1, 2, 3]\n",
    "verificador_de_normal(media_das_amostras)"
   ]
  },
  {
   "cell_type": "code",
   "execution_count": null,
   "metadata": {},
   "outputs": [],
   "source": [
    "pandas.Series(media_das_amostras).plot.kde()"
   ]
  },
  {
   "cell_type": "markdown",
   "metadata": {},
   "source": [
    "### Mais magias da Normal\n",
    "Além de ser a distribuição que mais aparece na natureza, a Normal tem muitas propriedades legais: uma delas é que muitas outras distribuições podem virar normais facilmente, através de pequenas transformações.\n",
    "\n",
    "Isso permite que a gente consiga fazer coisas incríveis com estatística simples!\n",
    "\n",
    "**Lembra do lançamento de moedas?**\n",
    "Lançar uma moeda segue uma distribuição bernoulli (sim ou não)."
   ]
  },
  {
   "cell_type": "code",
   "execution_count": null,
   "metadata": {},
   "outputs": [],
   "source": [
    "from scipy.stats import bernoulli\n",
    "\n",
    "bernoulli_exemplo = bernoulli.rvs(p = 0.5) # probabilidade é 50%"
   ]
  },
  {
   "cell_type": "code",
   "execution_count": null,
   "metadata": {},
   "outputs": [],
   "source": [
    "# Fizemos um único lançamento de uma moeda honesta\n",
    "bernoulli_exemplo"
   ]
  },
  {
   "cell_type": "markdown",
   "metadata": {},
   "source": [
    "Podemos fazer vários experimentos Bernoulli, tipo 50 lançamentos de moeda."
   ]
  },
  {
   "cell_type": "code",
   "execution_count": null,
   "metadata": {},
   "outputs": [],
   "source": [
    "bernoulli_experimento = bernoulli.rvs(p = 0.5, size = 50)\n",
    "bernoulli_experimento"
   ]
  },
  {
   "cell_type": "code",
   "execution_count": null,
   "metadata": {},
   "outputs": [],
   "source": [
    "pyplot.hist(bernoulli_experimento);"
   ]
  },
  {
   "cell_type": "markdown",
   "metadata": {},
   "source": [
    "A soma de vários lançamentos de moeda dessa (várias Bernoulli) gera uma distribuição Binomial."
   ]
  },
  {
   "cell_type": "code",
   "execution_count": null,
   "metadata": {},
   "outputs": [],
   "source": [
    "from scipy.stats import binom\n",
    "\n",
    "# é basicamente o nosso contador de caras\n",
    "binomial_exemplo = binom.rvs(n = 50, # 50 lançamentos\n",
    "                             p = 0.5)"
   ]
  },
  {
   "cell_type": "code",
   "execution_count": null,
   "metadata": {},
   "outputs": [],
   "source": [
    "binomial_exemplo"
   ]
  },
  {
   "cell_type": "markdown",
   "metadata": {},
   "source": [
    "Também podemos fazer 10000 experimentos de 50 lançamentos de moedas..."
   ]
  },
  {
   "cell_type": "code",
   "execution_count": null,
   "metadata": {},
   "outputs": [],
   "source": [
    "binomial_experimento = binom.rvs(n = 50,\n",
    "                                 p = 0.5,\n",
    "                                 size = 10000)"
   ]
  },
  {
   "cell_type": "code",
   "execution_count": null,
   "metadata": {},
   "outputs": [],
   "source": [
    "binomial_experimento"
   ]
  },
  {
   "cell_type": "code",
   "execution_count": null,
   "metadata": {},
   "outputs": [],
   "source": [
    "pyplot.hist(binomial_experimento);"
   ]
  },
  {
   "cell_type": "markdown",
   "metadata": {},
   "source": [
    "Já sabemos que isso vai acabar parecendo com uma normal, né?\n",
    "Por outro lado, dá pra transformar uma binomial em uma normal com alguma facilidade através de uma transformação bem conhecida. Então fomos de um universo binário (cara ou coroa) para uma distribuição mágica!\n",
    "\n",
    "E a magia não para por aí..."
   ]
  },
  {
   "cell_type": "markdown",
   "metadata": {},
   "source": [
    "### Distribuição exponencial\n",
    "\n",
    "A distribuição exponencial é uma distribuição muito utilizada na prática para modelar tempo de falha de objetos. Por exemplo, pode ser usada para modelar o tempo que demora até uma lâmpada falhar. Ela possui um parâmetro, que pode ser interpretado da seguinte forma: é o tempo de vida médio do objeto.\n",
    "Ela sofre de perda de memória!\n",
    "\n",
    "Exemplo:\n",
    "\n",
    "Tempo de ligação em um callcenter: \n",
    "Quanto tempo 100 pessoas ficaram em uma ligação com um callcenter ?"
   ]
  },
  {
   "cell_type": "code",
   "execution_count": null,
   "metadata": {
    "scrolled": true
   },
   "outputs": [],
   "source": [
    "qnt_pessoas = [20,16,13,10,8,7,6,5,4,3,2,2,1,1,1,1,0]\n",
    "tempo_de_ligacao = [1,2,3,4,5,6,7,8,9,10,11,12,13,14,15,16,17]\n",
    "\n",
    "pyplot.bar(tempo_de_ligacao, qnt_pessoas)"
   ]
  },
  {
   "cell_type": "markdown",
   "metadata": {},
   "source": [
    "## <font color='blue'>No Titanic, vocês conseguem achar alguma coluna que siga essa distribuição?</font>\n",
    "\n",
    "![alt text](https://databootcamp.nyc3.digitaloceanspaces.com/img/atrasada-relogio-pulso-1116-1400x800.jpg)"
   ]
  },
  {
   "cell_type": "code",
   "execution_count": null,
   "metadata": {},
   "outputs": [],
   "source": [
    "#solução"
   ]
  },
  {
   "cell_type": "code",
   "execution_count": null,
   "metadata": {},
   "outputs": [],
   "source": []
  },
  {
   "cell_type": "markdown",
   "metadata": {},
   "source": [
    "E adivinha? A distribuição normal é parte de uma família maravilhosa de distribuições chamada _família exponencial_. Essas distribuições todas tem pequenas transformações para mudá-las de um formato para o outro.\n",
    "\n",
    "Isso é super útil para fazer testes de hipóteses!"
   ]
  },
  {
   "cell_type": "markdown",
   "metadata": {},
   "source": [
    "# Distribuições são lindas <3\n",
    "![dinossauros](https://people.csail.mit.edu/tbroderick/img/dino_release.png)"
   ]
  },
  {
   "cell_type": "code",
   "execution_count": null,
   "metadata": {},
   "outputs": [],
   "source": []
  }
 ],
 "metadata": {
  "kernelspec": {
   "display_name": "Python 3",
   "language": "python",
   "name": "python3"
  },
  "language_info": {
   "codemirror_mode": {
    "name": "ipython",
    "version": 3
   },
   "file_extension": ".py",
   "mimetype": "text/x-python",
   "name": "python",
   "nbconvert_exporter": "python",
   "pygments_lexer": "ipython3",
   "version": "3.8.2"
  }
 },
 "nbformat": 4,
 "nbformat_minor": 4
}
