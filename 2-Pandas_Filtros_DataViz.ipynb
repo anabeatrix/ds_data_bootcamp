{
 "cells": [
  {
   "cell_type": "markdown",
   "metadata": {
    "colab_type": "text",
    "id": "3AWpzk5KBWFQ"
   },
   "source": [
    "# Análise dos dados estratificados/filtrados\n",
    "\n",
    "## Por que filtrar os dados?\n",
    "Tem por objetivo separar os dados levantados em grupos distintos, como por exemplo, estratificação por local, por data, por turno, por tipo, etc. A estratificação permite analisar os dados separadamente para ajudar nas comparações entre diversos grupos e descobrir onde realmente está a verdadeira causa de um problema.\n",
    "\n",
    "## Quais cuidados devemos ter?\n",
    "Uma separação errada pode gerar falsas causalidades e omitir informações relevantes sobre os seus dados. Fica a dica de leitura do livro [Como mentir com estatística](https://urldefense.com/v3/__https://www.amazon.com/Mentir-Estat**Astica-Darrell-Irving-Casotti/dp/858057952X__;w60!!PnTax73cffqfJow!me2OuahHWtAYjXzp8PlF06cNUbux_96vL2yMmhjDq890PRgYl3lSEzU3nH8XuZzz$ ) que lista os erros mais comuns que podemos gerar nesse tipo de análise.\n",
    "\n",
    "![alt text](https://urldefense.com/v3/__https://mysimple.name/wp-content/uploads/2016/04/datafilter-300x150.png)*5Cn__;JQ!!PnTax73cffqfJow!me2OuahHWtAYjXzp8PlF06cNUbux_96vL2yMmhjDq890PRgYl3lSEzU3nMZxiCyL$ ",
    "\n",
    "**Como estamos criando um notebook novo precisamos importar o `pandas` novamente e ler novamente o nosso dataset do `titanic`**"
   ]
  },
  {
   "cell_type": "code",
   "execution_count": null,
   "metadata": {
    "colab": {},
    "colab_type": "code",
    "id": "SLc2mI9M-ROr"
   },
   "outputs": [],
   "source": [
    "import pandas\n",
    "titanic = pandas.read_csv(\"https://urldefense.com/v3/__https://databootcamp.nyc3.digitaloceanspaces.com/titanic.csv*5C__;JQ!!PnTax73cffqfJow!me2OuahHWtAYjXzp8PlF06cNUbux_96vL2yMmhjDq890PRgYl3lSEzU3nJ6wWc6s$ ")"
   ]
  },
  {
   "cell_type": "markdown",
   "metadata": {
    "colab_type": "text",
    "hideCode": false,
    "hidePrompt": false,
    "id": "eqDPS6YvAOv_"
   },
   "source": [
    "### 5 - Filtrando o DataFrame\n",
    "\n",
    "Os filtros do `pandas` usam os mesmos símbolos para validar as condições lógicas do `if` (`==`, `!=`, `>`, `<`, etc).\n",
    "\n",
    "![alt text](https://urldefense.com/v3/__https://www.wikihow.com/images/thumb/a/a9/167107-22-1.jpg/aid167107-v4-728px-167107-22-1.jpg.webp)*5Cn__;JQ!!PnTax73cffqfJow!me2OuahHWtAYjXzp8PlF06cNUbux_96vL2yMmhjDq890PRgYl3lSEzU3nH-2B1jA$ ",
    "\n",
    "**Se quisermos recuperar apenas os passageiros da `primeira classe`**\n",
    "\n",
    "Primeiro, temos que verificar a igualdade entre a `coluna` e um valor."
   ]
  },
  {
   "cell_type": "code",
   "execution_count": null,
   "metadata": {
    "colab": {
     "base_uri": "https://urldefense.com/v3/__https://localhost:8080/__;!!PnTax73cffqfJow!me2OuahHWtAYjXzp8PlF06cNUbux_96vL2yMmhjDq890PRgYl3lSEzU3nB2BEEG0$ ",
     "height": 221
    },
    "colab_type": "code",
    "id": "Ta_NJ7QlPC6W",
    "outputId": "20cfb3a5-85b1-4c8f-ae88-d32745ae488e"
   },
   "outputs": [],
   "source": [
    "titanic[\"Pclass\"] == 1"
   ]
  },
  {
   "cell_type": "markdown",
   "metadata": {
    "colab_type": "text",
    "id": "jUKwuJfsPFOV"
   },
   "source": [
    "Nesse processo para cada linha será perguntada se ela tem um valor `igual a 1`.\n",
    "\n",
    "Após isso podemos usar esse filtro que criamos em um dataframe para retornar uma versão filtrada do dataset, somente com os dados dos passageiros da primeira classe."
   ]
  },
  {
   "cell_type": "code",
   "execution_count": null,
   "metadata": {
    "colab": {
     "base_uri": "https://urldefense.com/v3/__https://localhost:8080/__;!!PnTax73cffqfJow!me2OuahHWtAYjXzp8PlF06cNUbux_96vL2yMmhjDq890PRgYl3lSEzU3nB2BEEG0$ ",
     "height": 204
    },
    "colab_type": "code",
    "hideCode": false,
    "hidePrompt": false,
    "id": "IIrMd5jPAOwC",
    "outputId": "07e22946-361a-445e-f520-6380e13ddbc2",
    "scrolled": true
   },
   "outputs": [],
   "source": [
    "primeira_classe = titanic[\"Pclass\"] == 1\n",
    "titanic[ primeira_classe ].head()"
   ]
  },
  {
   "cell_type": "markdown",
   "metadata": {
    "colab_type": "text",
    "hideCode": false,
    "hidePrompt": false,
    "id": "RiOGMaePAOwI"
   },
   "source": [
    "**O resultado do filtro é outro dataframe.**\n",
    "\n",
    "Podemos atribuir o resultado do filtro em uma variável e trabalhar com ela sem medo de alterar o dataframe original."
   ]
  },
  {
   "cell_type": "code",
   "execution_count": null,
   "metadata": {
    "colab": {
     "base_uri": "https://urldefense.com/v3/__https://localhost:8080/__;!!PnTax73cffqfJow!me2OuahHWtAYjXzp8PlF06cNUbux_96vL2yMmhjDq890PRgYl3lSEzU3nB2BEEG0$ ",
     "height": 34
    },
    "colab_type": "code",
    "hideCode": false,
    "hidePrompt": false,
    "id": "WJcFbSp4AOwI",
    "outputId": "63c41ce6-7c5a-491f-e38e-154748255fb1"
   },
   "outputs": [],
   "source": [
    "primeira_classe_df = titanic[titanic[\"Pclass\"] == 1]\n",
    "type(primeira_classe_df)"
   ]
  },
  {
   "cell_type": "markdown",
   "metadata": {
    "colab_type": "text",
    "id": "fS6lwZKeP2gm"
   },
   "source": [
    "**Filtro de negação**\n",
    "\n",
    "Nós usamos essa condição quando queremos todos os resultados `menos algum`.\n",
    "\n",
    "Queremos todos os dados de passageiros que não tenha o valor da coluna `Sex` como `male`."
   ]
  },
  {
   "cell_type": "code",
   "execution_count": null,
   "metadata": {
    "colab": {
     "base_uri": "https://urldefense.com/v3/__https://localhost:8080/__;!!PnTax73cffqfJow!me2OuahHWtAYjXzp8PlF06cNUbux_96vL2yMmhjDq890PRgYl3lSEzU3nB2BEEG0$ ",
     "height": 419
    },
    "colab_type": "code",
    "id": "zGKgVhOXAOwL",
    "outputId": "11d9b6b9-2471-4aae-b8b9-8c850409e4bc"
   },
   "outputs": [],
   "source": [
    "nao_homem = titanic[\"Sex\"] != \"male\"\n",
    "titanic[nao_homem]"
   ]
  },
  {
   "cell_type": "markdown",
   "metadata": {
    "colab_type": "text",
    "id": "rEsoG3EYQhE5"
   },
   "source": [
    "**Nós usamos filtros para fazer uma análise segmentada da população.**\n",
    "\n",
    "### **Desafio:** Qual a idade média das mulheres e dos homens?\n",
    "\n",
    "![alt text](https://urldefense.com/v3/__https://static.vix.com/pt/sites/default/files/styles/large/public/a/atrasada-relogio-pulso-1116-1400x800.jpg?itok=qv3gUH6U__;!!PnTax73cffqfJow!me2OuahHWtAYjXzp8PlF06cNUbux_96vL2yMmhjDq890PRgYl3lSEzU3nHYSh6gc$ )"
   ]
  },
  {
   "cell_type": "code",
   "execution_count": null,
   "metadata": {
    "colab": {},
    "colab_type": "code",
    "id": "tPGF3qmTQ5vw"
   },
   "outputs": [],
   "source": [
    "#solução"
   ]
  },
  {
   "cell_type": "markdown",
   "metadata": {
    "colab_type": "text",
    "hideCode": false,
    "hidePrompt": false,
    "id": "tzix3-Cx-HLZ"
   },
   "source": [
    "**Filtrando com mais de uma condição**\n",
    "\n",
    "Os operadores lógicos no `pandas` são: `&` para o \"e\" e `|` para o \"ou\"\n",
    "\n",
    "![alt text](https://urldefense.com/v3/__https://upload.wikimedia.org/wikipedia/commons/4/4a/Truth_table_for_AND*2C_OR*2C_and_NOT.png)*5Cn__;JSUl!!PnTax73cffqfJow!me2OuahHWtAYjXzp8PlF06cNUbux_96vL2yMmhjDq890PRgYl3lSEzU3nAIjKrk7$ ",
    "\n",
    "**Pessoas que são da primeira classe e sobreviveram**\n",
    "\n",
    "Vamos primeiro criar as duas condições separadas, primeira classe e sobreviveram."
   ]
  },
  {
   "cell_type": "code",
   "execution_count": null,
   "metadata": {
    "colab": {},
    "colab_type": "code",
    "hideCode": false,
    "hidePrompt": false,
    "id": "1FI6Di4b-HLa"
   },
   "outputs": [],
   "source": [
    "primeira_classe = titanic[\"Pclass\"] == 1\n",
    "sobreviveu = titanic[\"Survived\"] == 1"
   ]
  },
  {
   "cell_type": "markdown",
   "metadata": {
    "colab_type": "text",
    "id": "X7eiYSTMSmTC"
   },
   "source": [
    "Após a criação das variáveis devemos usar um filtro de junção `&` que significa `E`"
   ]
  },
  {
   "cell_type": "code",
   "execution_count": null,
   "metadata": {
    "colab": {
     "base_uri": "https://urldefense.com/v3/__https://localhost:8080/__;!!PnTax73cffqfJow!me2OuahHWtAYjXzp8PlF06cNUbux_96vL2yMmhjDq890PRgYl3lSEzU3nB2BEEG0$ ",
     "height": 419
    },
    "colab_type": "code",
    "id": "TJ0N6EjFSmd6",
    "outputId": "88b25012-ae28-4593-b5f6-1661c9857443"
   },
   "outputs": [],
   "source": [
    "titanic[ primeira_classe & sobreviveu ]"
   ]
  },
  {
   "cell_type": "markdown",
   "metadata": {
    "colab_type": "text",
    "id": "2xvY8sACUjVc"
   },
   "source": [
    "### **Desafio:** Quantas pessoas estavam nas cabines `D35` e `D36`?\n",
    "\n",
    "![alt text](https://urldefense.com/v3/__https://static.vix.com/pt/sites/default/files/styles/large/public/a/atrasada-relogio-pulso-1116-1400x800.jpg?itok=qv3gUH6U__;!!PnTax73cffqfJow!me2OuahHWtAYjXzp8PlF06cNUbux_96vL2yMmhjDq890PRgYl3lSEzU3nHYSh6gc$ )"
   ]
  },
  {
   "cell_type": "code",
   "execution_count": null,
   "metadata": {
    "colab": {},
    "colab_type": "code",
    "id": "VCWHvH6vU5cB"
   },
   "outputs": [],
   "source": [
    "#solução"
   ]
  },
  {
   "cell_type": "markdown",
   "metadata": {
    "colab_type": "text",
    "hideCode": false,
    "hidePrompt": false,
    "id": "eWyrAW3Z-HLn"
   },
   "source": [
    "**Normalmente aproveitamos os filtros para fazer análises comparativas**\n",
    "\n",
    "Média das idades"
   ]
  },
  {
   "cell_type": "code",
   "execution_count": null,
   "metadata": {
    "colab": {},
    "colab_type": "code",
    "hideCode": false,
    "hidePrompt": false,
    "id": "wuqtF6Ei-HLn",
    "scrolled": true
   },
   "outputs": [],
   "source": [
    "media = titanic[\"Age\"].mean()"
   ]
  },
  {
   "cell_type": "markdown",
   "metadata": {
    "colab_type": "text",
    "id": "BDPAYj1oV1UW"
   },
   "source": [
    "Médias das idades das pessoas que sobreviveram e estão na primeira classe.\n",
    "\n",
    "**Dica: Vamos pegar a média e aplicar os filtros em uma linha somente**"
   ]
  },
  {
   "cell_type": "code",
   "execution_count": null,
   "metadata": {
    "colab": {},
    "colab_type": "code",
    "id": "0VweZWT2V1c-"
   },
   "outputs": [],
   "source": [
    "media_filtro = titanic[(titanic[\"Pclass\"] == 1) & (titanic[\"Survived\"] == 1) ][\"Age\"].mean()"
   ]
  },
  {
   "cell_type": "markdown",
   "metadata": {
    "colab_type": "text",
    "id": "agoxMD9RV3h1"
   },
   "source": [
    "Vamos exibir o resultado usando a **interpolação de strings**"
   ]
  },
  {
   "cell_type": "code",
   "execution_count": null,
   "metadata": {
    "colab": {
     "base_uri": "https://urldefense.com/v3/__https://localhost:8080/__;!!PnTax73cffqfJow!me2OuahHWtAYjXzp8PlF06cNUbux_96vL2yMmhjDq890PRgYl3lSEzU3nB2BEEG0$ ",
     "height": 68
    },
    "colab_type": "code",
    "id": "RPEmyD_mV3u1",
    "outputId": "ef70c3e8-5640-4fc6-fcb4-1670fb8f919d"
   },
   "outputs": [],
   "source": [
    "print(\"\"\"\n",
    "Média de idade: {}\n",
    "Média de idade dos sobreviventes da primeira classe: {}\"\"\".format(\n",
    "    media,\n",
    "    media_filtro)\n",
    ")"
   ]
  },
  {
   "cell_type": "markdown",
   "metadata": {
    "colab_type": "text",
    "hideCode": false,
    "hidePrompt": false,
    "id": "dJNNkxdc-HLq"
   },
   "source": [
    "### **Desafio:** Retorne apenas os passageiros da `primeira classe que sobreviveram` e os passageiros da `terceira classe que não sobreviveram`\n",
    "\n",
    "![alt text](https://urldefense.com/v3/__https://static.vix.com/pt/sites/default/files/styles/large/public/a/atrasada-relogio-pulso-1116-1400x800.jpg?itok=qv3gUH6U__;!!PnTax73cffqfJow!me2OuahHWtAYjXzp8PlF06cNUbux_96vL2yMmhjDq890PRgYl3lSEzU3nHYSh6gc$ )"
   ]
  },
  {
   "cell_type": "code",
   "execution_count": null,
   "metadata": {
    "colab": {},
    "colab_type": "code",
    "hideCode": false,
    "hidePrompt": false,
    "id": "U96meIQK-HLq"
   },
   "outputs": [],
   "source": [
    "#solução"
   ]
  },
  {
   "cell_type": "markdown",
   "metadata": {
    "colab_type": "text",
    "hideCode": false,
    "hidePrompt": false,
    "id": "r7utUgAw-HLu"
   },
   "source": [
    "# 6 - Visualizando os dados\n",
    "\n",
    "Visualização de dados é a representação gráfica dos dados. Envolve produzir imagens que comunicam relacionamentos entre os dados.\n",
    "\n",
    "![alt text](https://urldefense.com/v3/__https://miro.medium.com/max/1838/0*FUZYhPTfKKJjAHPk.)*5Cn__;KiU!!PnTax73cffqfJow!me2OuahHWtAYjXzp8PlF06cNUbux_96vL2yMmhjDq890PRgYl3lSEzU3nBc-ZL1A$ ",
    "\n",
    "Existem dezenas de tipos de gráficos para nos ajudar na escolha do melhor gráfico recomendo visitar esse [PDF](https://urldefense.com/v3/__http://experception.net/Franconeri_ExperCeptionDotNet_DataVisQuickRef.pdf).*5Cn__;JQ!!PnTax73cffqfJow!me2OuahHWtAYjXzp8PlF06cNUbux_96vL2yMmhjDq890PRgYl3lSEzU3nBnWEx5M$ ",
    "\n",
    "**Tipos de gráficos (plots) mais populares**\n",
    "\n",
    "- 'line' : line plot (default)\n",
    "- 'bar' : vertical bar plot\n",
    "- 'barh' : horizontal bar plot\n",
    "- 'hist' : histogram\n",
    "- 'box' : boxplot\n",
    "- 'kde' : Kernel Density Estimation plot\n",
    "- 'density' : same as 'kde'\n",
    "- 'area' : area plot\n",
    "- 'pie' : pie plot\n",
    "- 'scatter' : scatter plot\n",
    "- 'hexbin' : hexbin plot\n",
    "\n",
    "\n",
    "**Histograma** é o gráfico que mostra a frequência dos dados, ou seja, quantas vezes cada valor aparece nos dados.\n",
    "\n",
    "Vamos usas o histograma para comparar o valor de `Fare` de quem sobreviveu e de quem não sobreviveu"
   ]
  },
  {
   "cell_type": "code",
   "execution_count": null,
   "metadata": {
    "colab": {},
    "colab_type": "code",
    "hideCode": false,
    "hidePrompt": false,
    "id": "kowHoLRJ-HLw"
   },
   "outputs": [],
   "source": [
    "sobreviventes = titanic[titanic[\"Survived\"] == 1]"
   ]
  },
  {
   "cell_type": "markdown",
   "metadata": {
    "colab_type": "text",
    "hideCode": false,
    "hidePrompt": false,
    "id": "qQKkeEFs-HL0"
   },
   "source": [
    "**Vamos usar um pouco de magia!**\n",
    "\n",
    "**Tudo que começa com `%` são as magias do IPython pro Jupyter Notebook. Fora do IPython (Jupyter) elas não funcionam!**\n",
    "\n",
    "Um pouco mais sobre magias aqui: https://urldefense.com/v3/__http://ipython.readthedocs.io/en/stable/interactive/magics.html__;!!PnTax73cffqfJow!me2OuahHWtAYjXzp8PlF06cNUbux_96vL2yMmhjDq890PRgYl3lSEzU3nLd4jVGx$ "
   ]
  },
  {
   "cell_type": "code",
   "execution_count": null,
   "metadata": {
    "colab": {},
    "colab_type": "code",
    "hideCode": false,
    "hidePrompt": false,
    "id": "heq7E54c-HL1",
    "scrolled": false
   },
   "outputs": [],
   "source": [
    "%matplotlib inline"
   ]
  },
  {
   "cell_type": "markdown",
   "metadata": {
    "colab_type": "text",
    "id": "Ll4HTOwLXwK7"
   },
   "source": [
    "Agora tudo que usar o `matplotlib` vai ser renderizado na tela."
   ]
  },
  {
   "cell_type": "code",
   "execution_count": null,
   "metadata": {
    "colab": {
     "base_uri": "https://urldefense.com/v3/__https://localhost:8080/__;!!PnTax73cffqfJow!me2OuahHWtAYjXzp8PlF06cNUbux_96vL2yMmhjDq890PRgYl3lSEzU3nB2BEEG0$ ",
     "height": 282
    },
    "colab_type": "code",
    "id": "Tv3swXnjXmlJ",
    "outputId": "7306ed5c-a9bd-4829-8f48-5d4f4708d63a"
   },
   "outputs": [],
   "source": [
    "sobreviventes[\"Fare\"].plot.hist()"
   ]
  },
  {
   "cell_type": "markdown",
   "metadata": {
    "colab_type": "text",
    "id": "iHmpONmSX-Yy"
   },
   "source": [
    "O `histograma` agrupa os dados em `bins`, que são como baldes para colocar o seu dado. Se você precisar de uma visualização com mais detalhes sobre o grupos você pode aumentar a quantidade de bins."
   ]
  },
  {
   "cell_type": "code",
   "execution_count": null,
   "metadata": {
    "colab": {
     "base_uri": "https://urldefense.com/v3/__https://localhost:8080/__;!!PnTax73cffqfJow!me2OuahHWtAYjXzp8PlF06cNUbux_96vL2yMmhjDq890PRgYl3lSEzU3nB2BEEG0$ ",
     "height": 282
    },
    "colab_type": "code",
    "id": "I7ctiqFCYKZU",
    "outputId": "b73fbe7e-d37d-4387-d2b8-f50979059e18"
   },
   "outputs": [],
   "source": [
    "sobreviventes[\"Fare\"].plot.hist(bins=20)"
   ]
  },
  {
   "cell_type": "markdown",
   "metadata": {
    "colab_type": "text",
    "hideCode": false,
    "hidePrompt": false,
    "id": "yjVJd2H_-HL4"
   },
   "source": [
    "### **Desafio:** Gere um historgrama das tarifas apenas com quem `não sobreviveu`\n",
    "\n",
    "![alt text](https://urldefense.com/v3/__https://static.vix.com/pt/sites/default/files/styles/large/public/a/atrasada-relogio-pulso-1116-1400x800.jpg?itok=qv3gUH6U__;!!PnTax73cffqfJow!me2OuahHWtAYjXzp8PlF06cNUbux_96vL2yMmhjDq890PRgYl3lSEzU3nHYSh6gc$ )"
   ]
  },
  {
   "cell_type": "code",
   "execution_count": null,
   "metadata": {
    "colab": {},
    "colab_type": "code",
    "hideCode": false,
    "hidePrompt": false,
    "id": "bwgBSmrw-HL4",
    "scrolled": false
   },
   "outputs": [],
   "source": [
    "#solução"
   ]
  },
  {
   "cell_type": "markdown",
   "metadata": {
    "colab_type": "text",
    "hideCode": false,
    "hidePrompt": false,
    "id": "-nD5QX61-HL7"
   },
   "source": [
    "**Dica: Para juntar dois resultados em um mesmo gráfico é bem simples, basta colocar um gráfico e na linha de baixo outro**\n",
    "\n",
    "Por baixo dos panos isso funciona pois é um objeto único para tudo, então alterando o último plot altera os 2 para colocar a legenda.\n",
    "\n",
    "Vamos comparar as faixas etárias entre as populações da primeira e segunda classe."
   ]
  },
  {
   "cell_type": "code",
   "execution_count": null,
   "metadata": {
    "colab": {
     "base_uri": "https://urldefense.com/v3/__https://localhost:8080/__;!!PnTax73cffqfJow!me2OuahHWtAYjXzp8PlF06cNUbux_96vL2yMmhjDq890PRgYl3lSEzU3nB2BEEG0$ ",
     "height": 285
    },
    "colab_type": "code",
    "hideCode": false,
    "hidePrompt": false,
    "id": "lbcaADYP-HL8",
    "outputId": "f37dade1-5e20-41fd-8b45-364e0272ed6c"
   },
   "outputs": [],
   "source": [
    "titanic[titanic[\"Pclass\"] == 1][\"Age\"].plot.hist(bins=20)\n",
    "titanic[titanic[\"Pclass\"] == 2][\"Age\"].plot.hist(bins=20)"
   ]
  },
  {
   "cell_type": "markdown",
   "metadata": {
    "colab_type": "text",
    "id": "WmhmOI3_Z-M9"
   },
   "source": [
    "Podemos inserir uma legenda paga facilitar a leitura"
   ]
  },
  {
   "cell_type": "code",
   "execution_count": null,
   "metadata": {
    "colab": {
     "base_uri": "https://urldefense.com/v3/__https://localhost:8080/__;!!PnTax73cffqfJow!me2OuahHWtAYjXzp8PlF06cNUbux_96vL2yMmhjDq890PRgYl3lSEzU3nB2BEEG0$ ",
     "height": 285
    },
    "colab_type": "code",
    "id": "e8Vk4A2QZ9MY",
    "outputId": "420a0d16-01b4-42b2-cbe8-692277be739d"
   },
   "outputs": [],
   "source": [
    "titanic[titanic[\"Pclass\"] == 1][\"Age\"].plot.hist(bins=20)\n",
    "titanic[titanic[\"Pclass\"] == 2][\"Age\"].plot.hist(bins=20).legend([\"primeira\", \"segunda\"])"
   ]
  },
  {
   "cell_type": "markdown",
   "metadata": {
    "colab_type": "text",
    "hideCode": false,
    "hidePrompt": false,
    "id": "qEMRqNMQ-HL9"
   },
   "source": [
    "**Plot scatter:** mostra dispersão entre 2 conjuntos de dados. No caso, estamos vendo a relação do preço pago com a idade.\n",
    "\n",
    "Vamos verificar a relação entre a `idade` e o `valor do ticket`"
   ]
  },
  {
   "cell_type": "code",
   "execution_count": null,
   "metadata": {
    "colab": {
     "base_uri": "https://urldefense.com/v3/__https://localhost:8080/__;!!PnTax73cffqfJow!me2OuahHWtAYjXzp8PlF06cNUbux_96vL2yMmhjDq890PRgYl3lSEzU3nB2BEEG0$ ",
     "height": 296
    },
    "colab_type": "code",
    "hideCode": false,
    "hidePrompt": false,
    "id": "XXIUkSu_-HL-",
    "outputId": "12a5339a-c191-4aae-c6aa-f2b84fa426ec",
    "scrolled": false
   },
   "outputs": [],
   "source": [
    "titanic.plot.scatter(x = \"Age\", y = \"Fare\")"
   ]
  },
  {
   "cell_type": "markdown",
   "metadata": {},
   "source": [
    "**Plot pie:** mostra a proporção entre os dados de uma coluna. É indicado pra uma visualização rapida, porem se a coluna tem muitas dimensoes ele fica muito confuso.\n",
    "\n",
    "Vamos ver o pie chart de `Pclass`"
   ]
  },
  {
   "cell_type": "code",
   "execution_count": null,
   "metadata": {},
   "outputs": [],
   "source": [
    "titanic[\"Pclass\"].value_counts().plot.pie()"
   ]
  },
  {
   "cell_type": "markdown",
   "metadata": {},
   "source": [
    "**Plot boxplot:** Mostra a distribuição dos dados em percentis, inclusive destacando os outliers\n",
    "\n",
    "Vamos olhar a distribuição das idades"
   ]
  },
  {
   "cell_type": "code",
   "execution_count": null,
   "metadata": {},
   "outputs": [],
   "source": [
    "titanic[\"Age\"].plot(kind=\"box\")"
   ]
  },
  {
   "cell_type": "markdown",
   "metadata": {
    "colab_type": "text",
    "hideCode": false,
    "hidePrompt": false,
    "id": "yjVJd2H_-HL4"
   },
   "source": [
    "### **Desafio:** Gere um boxplot das tarifas por classe\n",
    "\n",
    "![alt text](https://urldefense.com/v3/__https://static.vix.com/pt/sites/default/files/styles/large/public/a/atrasada-relogio-pulso-1116-1400x800.jpg?itok=qv3gUH6U__;!!PnTax73cffqfJow!me2OuahHWtAYjXzp8PlF06cNUbux_96vL2yMmhjDq890PRgYl3lSEzU3nHYSh6gc$ )"
   ]
  },
  {
   "cell_type": "code",
   "execution_count": null,
   "metadata": {
    "colab": {},
    "colab_type": "code",
    "hideCode": false,
    "hidePrompt": false,
    "id": "bwgBSmrw-HL4",
    "scrolled": false
   },
   "outputs": [],
   "source": [
    "#solução"
   ]
  },
  {
   "cell_type": "markdown",
   "metadata": {
    "colab_type": "text",
    "id": "i6ZhcHFNa6vV"
   },
   "source": [
    "### Nós iremos ver mais gráficos e outras bibliotecas de visualização no decorrer do curso"
   ]
  },
  {
   "cell_type": "markdown",
   "metadata": {
    "colab_type": "text",
    "hideCode": false,
    "hidePrompt": false,
    "id": "kcDD0rWN-HMD"
   },
   "source": [
    "# 7 - transformação dos dados\n",
    "\n",
    "Muitas vezes quando estamos manipulando um dataset precisamos criar colunas artificiais para nos ajudar nas análises, elas podem ser junções de outras colunas ou parte de dados delas.\n",
    "\n",
    "No titanic temos 2 colunas que somandas dizem se o passageiro tinha parentes à bordo.\n",
    "\n",
    "**Vamos criar uma coluna que diga se o passageiro tinha parentes à bordo, somando o valor de `sibsp` e `parch`**\n",
    "\n",
    "Primeira vamos definir uma função"
   ]
  },
  {
   "cell_type": "code",
   "execution_count": null,
   "metadata": {
    "colab": {},
    "colab_type": "code",
    "hideCode": false,
    "hidePrompt": false,
    "id": "EtrjvQ63-HME"
   },
   "outputs": [],
   "source": [
    "def num_parentes(linha):\n",
    "    return linha[\"SibSp\"] + linha[\"Parch\"]"
   ]
  },
  {
   "cell_type": "markdown",
   "metadata": {
    "colab_type": "text",
    "hideCode": false,
    "hidePrompt": false,
    "id": "U2x6eobE-HMF"
   },
   "source": [
    "Após criarmos a função vamos **aplicar** ela para cada linha do dataframe.\n",
    "\n",
    "**É como se fosse um `loop` por cada linha automático!**"
   ]
  },
  {
   "cell_type": "code",
   "execution_count": null,
   "metadata": {
    "colab": {
     "base_uri": "https://urldefense.com/v3/__https://localhost:8080/__;!!PnTax73cffqfJow!me2OuahHWtAYjXzp8PlF06cNUbux_96vL2yMmhjDq890PRgYl3lSEzU3nB2BEEG0$ ",
     "height": 221
    },
    "colab_type": "code",
    "hideCode": false,
    "hidePrompt": false,
    "id": "OVgTW70K-HMF",
    "outputId": "d1c3ad89-4f79-4b60-96ad-f195563b2a84"
   },
   "outputs": [],
   "source": [
    "titanic.apply(num_parentes, axis=1)"
   ]
  },
  {
   "cell_type": "markdown",
   "metadata": {
    "colab_type": "text",
    "hideCode": false,
    "hidePrompt": false,
    "id": "7DNI7O6B-HMH"
   },
   "source": [
    "`axis = 1` representa que a função é aplicada linha a linha. \n",
    "\n",
    "`axis = 0`, que é o valor padrão, representa qua a função é aplicada coluna a coluna.\n",
    "\n",
    "![alt text](https://urldefense.com/v3/__https://www.w3resource.com/w3r_images/pandas-dataframe-apply-1.png__;!!PnTax73cffqfJow!me2OuahHWtAYjXzp8PlF06cNUbux_96vL2yMmhjDq890PRgYl3lSEzU3nCwVZzWS$ )"
   ]
  },
  {
   "cell_type": "markdown",
   "metadata": {
    "colab_type": "text",
    "hideCode": false,
    "hidePrompt": false,
    "id": "ynUK4XeY-HMP"
   },
   "source": [
    "**Como incluo essa coluna no meu DataFrame?**\n",
    "\n",
    "É muito parecido a um Dicionário `dict` do Python "
   ]
  },
  {
   "cell_type": "code",
   "execution_count": null,
   "metadata": {
    "colab": {},
    "colab_type": "code",
    "hideCode": false,
    "hidePrompt": false,
    "id": "iRDp2rQc-HMQ"
   },
   "outputs": [],
   "source": [
    "parentes = titanic.apply(num_parentes, axis=1)\n",
    "titanic[\"relatives\"] = parentes"
   ]
  },
  {
   "cell_type": "markdown",
   "metadata": {
    "colab_type": "text",
    "id": "KrOa_Unn-HMU"
   },
   "source": [
    "Vamos verificar se a coluna foi criada."
   ]
  },
  {
   "cell_type": "code",
   "execution_count": null,
   "metadata": {
    "colab": {
     "base_uri": "https://urldefense.com/v3/__https://localhost:8080/__;!!PnTax73cffqfJow!me2OuahHWtAYjXzp8PlF06cNUbux_96vL2yMmhjDq890PRgYl3lSEzU3nB2BEEG0$ ",
     "height": 68
    },
    "colab_type": "code",
    "hideCode": false,
    "hidePrompt": false,
    "id": "zx59LY3l-HMV",
    "outputId": "4797501d-46c7-42c6-e73c-83f66132ce29"
   },
   "outputs": [],
   "source": [
    "titanic.columns"
   ]
  },
  {
   "cell_type": "code",
   "execution_count": null,
   "metadata": {
    "colab": {
     "base_uri": "https://urldefense.com/v3/__https://localhost:8080/__;!!PnTax73cffqfJow!me2OuahHWtAYjXzp8PlF06cNUbux_96vL2yMmhjDq890PRgYl3lSEzU3nB2BEEG0$ ",
     "height": 359
    },
    "colab_type": "code",
    "hideCode": false,
    "hidePrompt": false,
    "id": "mkfNfpRU-HMX",
    "outputId": "9c5e1b83-b7df-42f1-c227-ec8825f6b9e6",
    "scrolled": true
   },
   "outputs": [],
   "source": [
    "titanic.head(10)"
   ]
  },
  {
   "cell_type": "markdown",
   "metadata": {},
   "source": [
    "### **Desafio:** Agora vamos separar a localização da cabine do seu número usando apply! Ex: *C85* deve retornar uma série chamada *CabinLocation* somente com o valor *C*.\n",
    "\n",
    "Isso pode ser útil para saber quem sobreviveu.\n",
    "\n",
    "![alt text](https://urldefense.com/v3/__https://static.vix.com/pt/sites/default/files/styles/large/public/a/atrasada-relogio-pulso-1116-1400x800.jpg?itok=qv3gUH6U__;!!PnTax73cffqfJow!me2OuahHWtAYjXzp8PlF06cNUbux_96vL2yMmhjDq890PRgYl3lSEzU3nHYSh6gc$ )"
   ]
  },
  {
   "cell_type": "code",
   "execution_count": null,
   "metadata": {
    "colab": {},
    "colab_type": "code",
    "hideCode": false,
    "hidePrompt": false,
    "id": "bwgBSmrw-HL4",
    "scrolled": false
   },
   "outputs": [],
   "source": [
    "#solução"
   ]
  },
  {
   "cell_type": "markdown",
   "metadata": {
    "colab_type": "text",
    "hideCode": false,
    "hidePrompt": false,
    "id": "ez3C90Z7-HMZ"
   },
   "source": [
    "**Agora que temos um DataFrame modificado podemos salvar ele para não perdermos a coluna criada**"
   ]
  },
  {
   "cell_type": "code",
   "execution_count": null,
   "metadata": {
    "colab": {},
    "colab_type": "code",
    "hideCode": false,
    "hidePrompt": false,
    "id": "ga2xoqou-HMZ"
   },
   "outputs": [],
   "source": [
    "titanic.to_csv(\"titanic_1_aula.csv\", index=False)"
   ]
  },
  {
   "cell_type": "markdown",
   "metadata": {
    "colab_type": "text",
    "id": "KUfIDSB_dNpy"
   },
   "source": [
    "Usamos o index `False` para ele não criar um índice novo pois os nossos dados já tem um index."
   ]
  },
  {
   "cell_type": "markdown",
   "metadata": {
    "colab_type": "text",
    "hideCode": false,
    "hidePrompt": false,
    "id": "_uRDyE0V-HMc"
   },
   "source": [
    "Se no futuro você precisar exportar seu DataFrame para outro formato é possível :)"
   ]
  },
  {
   "cell_type": "code",
   "execution_count": null,
   "metadata": {
    "colab": {},
    "colab_type": "code",
    "hideCode": false,
    "hidePrompt": false,
    "id": "nezKzDnV-HMd"
   },
   "outputs": [],
   "source": [
    "#titanic.to_ # use o tab"
   ]
  }
 ],
 "metadata": {
  "colab": {
   "collapsed_sections": [],
   "name": "3-Pandas-Filtros_DataViz",
   "provenance": []
  },
  "hide_code_all_hidden": false,
  "kernelspec": {
   "display_name": "conda_python3",
   "language": "python",
   "name": "conda_python3"
  },
  "language_info": {
   "codemirror_mode": {
    "name": "ipython",
    "version": 3
   },
   "file_extension": ".py",
   "mimetype": "text/x-python",
   "name": "python",
   "nbconvert_exporter": "python",
   "pygments_lexer": "ipython3",
   "version": "3.6.5"
  }
 },
 "nbformat": 4,
 "nbformat_minor": 1
}
